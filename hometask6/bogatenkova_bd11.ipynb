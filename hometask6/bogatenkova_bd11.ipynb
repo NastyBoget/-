{
 "cells": [
  {
   "cell_type": "markdown",
   "metadata": {},
   "source": [
    "## Задача\n",
    "\n",
    "Необходимо выполнить анализ датасета, применив полученные знания из пройденных тем. Для анализа могут быть выбраны любые данные: как уже готовые датасеты из Kaggle или любого другого источника, так и самостоятельно собранные данные. Так как в задании предстоит использовать предсказание по временным рядам, то необходимо выбрать такой датасет, в котором признаки можно было агрегировать по времени. Работы выполняются индивидуально. Проект НЕ является обязательным.\n",
    "\n",
    "## Критерии\n",
    "\n",
    "    Сложность используемого датасета (2 балла) – датасет не должен быть игрушечный, самое лучшее, чтобы это были реальные данные, взятые из реальной задачи, максимально непредобработанные (например – логи посещения сайтов пользователями). В проекте можно работать как с одной таблицей, так и с несколькими.\n",
    "    \n",
    "    Первичный анализ данных (2 балла) – изучить и описать, как были собраны данные, какие признаки, типы переменных есть в датасете. Описать, как будет происходить исследование, какая цель вашего проекта.\n",
    "    \n",
    "    Предобработка данных (2 балла) – выполнить необходимую агрегацию данных, убрать лишние поля и объекты, дать пояснения, если в предобработке данных нет необходимости – написать, почему.\n",
    "    \n",
    "    Визуальный анализ данных (4 балла) – использовать различные типы графиков, чтобы описать данные, все должно сопровождаться комментариями: какие зависимости или интересные инсайты были получены.\n",
    "    \n",
    "    Проверка статистических гипотез (7 баллов) - сформулировать статистические гипотезы в данных и проверить их с помощью статистических критериев (например - если это временной ряд, то изучить, изменились ли средние до и после определённого периода, или можно сравнить данные из разных групп). Как минимум – проверить 2 статистические гипотезы, должен быть использован любой параметрический и любой непараметрический критерий. Каждый шаг должен сопровождаться комментариями (если используете параметрический критерий, обязательно показывать, что его использование допустимо и корректно), должны быть сделаны выводы.\n",
    "    \n",
    "    Построить предсказание временного ряда (5 баллов).\n",
    "    \n",
    "    Сделать выводы о проделанном исследовании (3 балла) - указать, какие инсайты были найдены, о чем свидетельствует сделанный прогноз и выводы, полученные в ходе проверки статистических гипотез.\n",
    "\n",
    "Каждый из смысловых блоков прошу выделять в вашей работе соответствующими заголовками.\n",
    "\n",
    "Форма предоставления\n",
    "Jupyter-ноутбук. В названии ноутбука должна быть указана фамилия и название группы. \n",
    "\n",
    "Дедлайн\n",
    "Все работы должны быть высланы до 04.12.2019 23:59:00 по МСК на почту k.izmailov@corp.mail.ru, c темой: Техносфера. Мини-проект. Группа <ваша группа>. <ваше имя и фамилия> "
   ]
  },
  {
   "cell_type": "code",
   "execution_count": 1,
   "metadata": {},
   "outputs": [],
   "source": [
    "import pandas as pd"
   ]
  },
  {
   "cell_type": "code",
   "execution_count": 2,
   "metadata": {},
   "outputs": [],
   "source": [
    "participants = pd.read_csv('openpowerlifting.csv', sep=',')\n",
    "meetings = pd.read_csv('meets.csv', sep=',')"
   ]
  },
  {
   "cell_type": "code",
   "execution_count": 3,
   "metadata": {},
   "outputs": [
    {
     "data": {
      "text/html": [
       "<div>\n",
       "<style scoped>\n",
       "    .dataframe tbody tr th:only-of-type {\n",
       "        vertical-align: middle;\n",
       "    }\n",
       "\n",
       "    .dataframe tbody tr th {\n",
       "        vertical-align: top;\n",
       "    }\n",
       "\n",
       "    .dataframe thead th {\n",
       "        text-align: right;\n",
       "    }\n",
       "</style>\n",
       "<table border=\"1\" class=\"dataframe\">\n",
       "  <thead>\n",
       "    <tr style=\"text-align: right;\">\n",
       "      <th></th>\n",
       "      <th>MeetID</th>\n",
       "      <th>Name</th>\n",
       "      <th>Sex</th>\n",
       "      <th>Equipment</th>\n",
       "      <th>Age</th>\n",
       "      <th>Division</th>\n",
       "      <th>BodyweightKg</th>\n",
       "      <th>WeightClassKg</th>\n",
       "      <th>Squat4Kg</th>\n",
       "      <th>BestSquatKg</th>\n",
       "      <th>Bench4Kg</th>\n",
       "      <th>BestBenchKg</th>\n",
       "      <th>Deadlift4Kg</th>\n",
       "      <th>BestDeadliftKg</th>\n",
       "      <th>TotalKg</th>\n",
       "      <th>Place</th>\n",
       "      <th>Wilks</th>\n",
       "    </tr>\n",
       "  </thead>\n",
       "  <tbody>\n",
       "    <tr>\n",
       "      <th>0</th>\n",
       "      <td>0</td>\n",
       "      <td>Angie Belk Terry</td>\n",
       "      <td>F</td>\n",
       "      <td>Wraps</td>\n",
       "      <td>47.0</td>\n",
       "      <td>Mst 45-49</td>\n",
       "      <td>59.60</td>\n",
       "      <td>60</td>\n",
       "      <td>NaN</td>\n",
       "      <td>47.63</td>\n",
       "      <td>NaN</td>\n",
       "      <td>20.41</td>\n",
       "      <td>NaN</td>\n",
       "      <td>70.31</td>\n",
       "      <td>138.35</td>\n",
       "      <td>1</td>\n",
       "      <td>155.05</td>\n",
       "    </tr>\n",
       "    <tr>\n",
       "      <th>1</th>\n",
       "      <td>0</td>\n",
       "      <td>Dawn Bogart</td>\n",
       "      <td>F</td>\n",
       "      <td>Single-ply</td>\n",
       "      <td>42.0</td>\n",
       "      <td>Mst 40-44</td>\n",
       "      <td>58.51</td>\n",
       "      <td>60</td>\n",
       "      <td>NaN</td>\n",
       "      <td>142.88</td>\n",
       "      <td>NaN</td>\n",
       "      <td>95.25</td>\n",
       "      <td>NaN</td>\n",
       "      <td>163.29</td>\n",
       "      <td>401.42</td>\n",
       "      <td>1</td>\n",
       "      <td>456.38</td>\n",
       "    </tr>\n",
       "    <tr>\n",
       "      <th>2</th>\n",
       "      <td>0</td>\n",
       "      <td>Dawn Bogart</td>\n",
       "      <td>F</td>\n",
       "      <td>Single-ply</td>\n",
       "      <td>42.0</td>\n",
       "      <td>Open Senior</td>\n",
       "      <td>58.51</td>\n",
       "      <td>60</td>\n",
       "      <td>NaN</td>\n",
       "      <td>142.88</td>\n",
       "      <td>NaN</td>\n",
       "      <td>95.25</td>\n",
       "      <td>NaN</td>\n",
       "      <td>163.29</td>\n",
       "      <td>401.42</td>\n",
       "      <td>1</td>\n",
       "      <td>456.38</td>\n",
       "    </tr>\n",
       "    <tr>\n",
       "      <th>3</th>\n",
       "      <td>0</td>\n",
       "      <td>Dawn Bogart</td>\n",
       "      <td>F</td>\n",
       "      <td>Raw</td>\n",
       "      <td>42.0</td>\n",
       "      <td>Open Senior</td>\n",
       "      <td>58.51</td>\n",
       "      <td>60</td>\n",
       "      <td>NaN</td>\n",
       "      <td>NaN</td>\n",
       "      <td>NaN</td>\n",
       "      <td>95.25</td>\n",
       "      <td>NaN</td>\n",
       "      <td>NaN</td>\n",
       "      <td>95.25</td>\n",
       "      <td>1</td>\n",
       "      <td>108.29</td>\n",
       "    </tr>\n",
       "    <tr>\n",
       "      <th>4</th>\n",
       "      <td>0</td>\n",
       "      <td>Destiny Dula</td>\n",
       "      <td>F</td>\n",
       "      <td>Raw</td>\n",
       "      <td>18.0</td>\n",
       "      <td>Teen 18-19</td>\n",
       "      <td>63.68</td>\n",
       "      <td>67.5</td>\n",
       "      <td>NaN</td>\n",
       "      <td>NaN</td>\n",
       "      <td>NaN</td>\n",
       "      <td>31.75</td>\n",
       "      <td>NaN</td>\n",
       "      <td>90.72</td>\n",
       "      <td>122.47</td>\n",
       "      <td>1</td>\n",
       "      <td>130.47</td>\n",
       "    </tr>\n",
       "  </tbody>\n",
       "</table>\n",
       "</div>"
      ],
      "text/plain": [
       "   MeetID              Name Sex   Equipment   Age     Division  BodyweightKg  \\\n",
       "0       0  Angie Belk Terry   F       Wraps  47.0    Mst 45-49         59.60   \n",
       "1       0       Dawn Bogart   F  Single-ply  42.0    Mst 40-44         58.51   \n",
       "2       0       Dawn Bogart   F  Single-ply  42.0  Open Senior         58.51   \n",
       "3       0       Dawn Bogart   F         Raw  42.0  Open Senior         58.51   \n",
       "4       0      Destiny Dula   F         Raw  18.0   Teen 18-19         63.68   \n",
       "\n",
       "  WeightClassKg  Squat4Kg  BestSquatKg  Bench4Kg  BestBenchKg  Deadlift4Kg  \\\n",
       "0            60       NaN        47.63       NaN        20.41          NaN   \n",
       "1            60       NaN       142.88       NaN        95.25          NaN   \n",
       "2            60       NaN       142.88       NaN        95.25          NaN   \n",
       "3            60       NaN          NaN       NaN        95.25          NaN   \n",
       "4          67.5       NaN          NaN       NaN        31.75          NaN   \n",
       "\n",
       "   BestDeadliftKg  TotalKg Place   Wilks  \n",
       "0           70.31   138.35     1  155.05  \n",
       "1          163.29   401.42     1  456.38  \n",
       "2          163.29   401.42     1  456.38  \n",
       "3             NaN    95.25     1  108.29  \n",
       "4           90.72   122.47     1  130.47  "
      ]
     },
     "execution_count": 3,
     "metadata": {},
     "output_type": "execute_result"
    }
   ],
   "source": [
    "participants.head()"
   ]
  },
  {
   "cell_type": "code",
   "execution_count": 4,
   "metadata": {},
   "outputs": [
    {
     "data": {
      "text/html": [
       "<div>\n",
       "<style scoped>\n",
       "    .dataframe tbody tr th:only-of-type {\n",
       "        vertical-align: middle;\n",
       "    }\n",
       "\n",
       "    .dataframe tbody tr th {\n",
       "        vertical-align: top;\n",
       "    }\n",
       "\n",
       "    .dataframe thead th {\n",
       "        text-align: right;\n",
       "    }\n",
       "</style>\n",
       "<table border=\"1\" class=\"dataframe\">\n",
       "  <thead>\n",
       "    <tr style=\"text-align: right;\">\n",
       "      <th></th>\n",
       "      <th>MeetID</th>\n",
       "      <th>MeetPath</th>\n",
       "      <th>Federation</th>\n",
       "      <th>Date</th>\n",
       "      <th>MeetCountry</th>\n",
       "      <th>MeetState</th>\n",
       "      <th>MeetTown</th>\n",
       "      <th>MeetName</th>\n",
       "    </tr>\n",
       "  </thead>\n",
       "  <tbody>\n",
       "    <tr>\n",
       "      <th>0</th>\n",
       "      <td>0</td>\n",
       "      <td>365strong/1601</td>\n",
       "      <td>365Strong</td>\n",
       "      <td>2016-10-29</td>\n",
       "      <td>USA</td>\n",
       "      <td>NC</td>\n",
       "      <td>Charlotte</td>\n",
       "      <td>2016 Junior &amp; Senior National Powerlifting Cha...</td>\n",
       "    </tr>\n",
       "    <tr>\n",
       "      <th>1</th>\n",
       "      <td>1</td>\n",
       "      <td>365strong/1602</td>\n",
       "      <td>365Strong</td>\n",
       "      <td>2016-11-19</td>\n",
       "      <td>USA</td>\n",
       "      <td>MO</td>\n",
       "      <td>Ozark</td>\n",
       "      <td>Thanksgiving Powerlifting Classic</td>\n",
       "    </tr>\n",
       "    <tr>\n",
       "      <th>2</th>\n",
       "      <td>2</td>\n",
       "      <td>365strong/1603</td>\n",
       "      <td>365Strong</td>\n",
       "      <td>2016-07-09</td>\n",
       "      <td>USA</td>\n",
       "      <td>NC</td>\n",
       "      <td>Charlotte</td>\n",
       "      <td>Charlotte Europa Games</td>\n",
       "    </tr>\n",
       "    <tr>\n",
       "      <th>3</th>\n",
       "      <td>3</td>\n",
       "      <td>365strong/1604</td>\n",
       "      <td>365Strong</td>\n",
       "      <td>2016-06-11</td>\n",
       "      <td>USA</td>\n",
       "      <td>SC</td>\n",
       "      <td>Rock Hill</td>\n",
       "      <td>Carolina Cup Push Pull Challenge</td>\n",
       "    </tr>\n",
       "    <tr>\n",
       "      <th>4</th>\n",
       "      <td>4</td>\n",
       "      <td>365strong/1605</td>\n",
       "      <td>365Strong</td>\n",
       "      <td>2016-04-10</td>\n",
       "      <td>USA</td>\n",
       "      <td>SC</td>\n",
       "      <td>Rock Hill</td>\n",
       "      <td>Eastern USA Challenge</td>\n",
       "    </tr>\n",
       "  </tbody>\n",
       "</table>\n",
       "</div>"
      ],
      "text/plain": [
       "   MeetID        MeetPath Federation        Date MeetCountry MeetState  \\\n",
       "0       0  365strong/1601  365Strong  2016-10-29         USA        NC   \n",
       "1       1  365strong/1602  365Strong  2016-11-19         USA        MO   \n",
       "2       2  365strong/1603  365Strong  2016-07-09         USA        NC   \n",
       "3       3  365strong/1604  365Strong  2016-06-11         USA        SC   \n",
       "4       4  365strong/1605  365Strong  2016-04-10         USA        SC   \n",
       "\n",
       "    MeetTown                                           MeetName  \n",
       "0  Charlotte  2016 Junior & Senior National Powerlifting Cha...  \n",
       "1      Ozark                  Thanksgiving Powerlifting Classic  \n",
       "2  Charlotte                             Charlotte Europa Games  \n",
       "3  Rock Hill                   Carolina Cup Push Pull Challenge  \n",
       "4  Rock Hill                              Eastern USA Challenge  "
      ]
     },
     "execution_count": 4,
     "metadata": {},
     "output_type": "execute_result"
    }
   ],
   "source": [
    "meetings.head()"
   ]
  },
  {
   "cell_type": "markdown",
   "metadata": {},
   "source": [
    "## Первичный анализ данных"
   ]
  },
  {
   "cell_type": "code",
   "execution_count": 5,
   "metadata": {},
   "outputs": [
    {
     "name": "stdout",
     "output_type": "stream",
     "text": [
      "<class 'pandas.core.frame.DataFrame'>\n",
      "RangeIndex: 386414 entries, 0 to 386413\n",
      "Data columns (total 17 columns):\n",
      "MeetID            386414 non-null int64\n",
      "Name              386414 non-null object\n",
      "Sex               386414 non-null object\n",
      "Equipment         386414 non-null object\n",
      "Age               147147 non-null float64\n",
      "Division          370571 non-null object\n",
      "BodyweightKg      384012 non-null float64\n",
      "WeightClassKg     382602 non-null object\n",
      "Squat4Kg          1243 non-null float64\n",
      "BestSquatKg       298071 non-null float64\n",
      "Bench4Kg          1962 non-null float64\n",
      "BestBenchKg       356364 non-null float64\n",
      "Deadlift4Kg       2800 non-null float64\n",
      "BestDeadliftKg    317847 non-null float64\n",
      "TotalKg           363237 non-null float64\n",
      "Place             385322 non-null object\n",
      "Wilks             362194 non-null float64\n",
      "dtypes: float64(10), int64(1), object(6)\n",
      "memory usage: 50.1+ MB\n"
     ]
    }
   ],
   "source": [
    "participants.info()"
   ]
  },
  {
   "cell_type": "code",
   "execution_count": 6,
   "metadata": {},
   "outputs": [
    {
     "data": {
      "text/html": [
       "<div>\n",
       "<style scoped>\n",
       "    .dataframe tbody tr th:only-of-type {\n",
       "        vertical-align: middle;\n",
       "    }\n",
       "\n",
       "    .dataframe tbody tr th {\n",
       "        vertical-align: top;\n",
       "    }\n",
       "\n",
       "    .dataframe thead th {\n",
       "        text-align: right;\n",
       "    }\n",
       "</style>\n",
       "<table border=\"1\" class=\"dataframe\">\n",
       "  <thead>\n",
       "    <tr style=\"text-align: right;\">\n",
       "      <th></th>\n",
       "      <th>MeetID</th>\n",
       "      <th>Age</th>\n",
       "      <th>BodyweightKg</th>\n",
       "      <th>Squat4Kg</th>\n",
       "      <th>BestSquatKg</th>\n",
       "      <th>Bench4Kg</th>\n",
       "      <th>BestBenchKg</th>\n",
       "      <th>Deadlift4Kg</th>\n",
       "      <th>BestDeadliftKg</th>\n",
       "      <th>TotalKg</th>\n",
       "      <th>Wilks</th>\n",
       "    </tr>\n",
       "  </thead>\n",
       "  <tbody>\n",
       "    <tr>\n",
       "      <th>count</th>\n",
       "      <td>386414.000000</td>\n",
       "      <td>147147.000000</td>\n",
       "      <td>384012.000000</td>\n",
       "      <td>1243.000000</td>\n",
       "      <td>298071.000000</td>\n",
       "      <td>1962.000000</td>\n",
       "      <td>356364.000000</td>\n",
       "      <td>2800.000000</td>\n",
       "      <td>317847.000000</td>\n",
       "      <td>363237.000000</td>\n",
       "      <td>362194.000000</td>\n",
       "    </tr>\n",
       "    <tr>\n",
       "      <th>mean</th>\n",
       "      <td>5143.015804</td>\n",
       "      <td>31.668237</td>\n",
       "      <td>86.934912</td>\n",
       "      <td>107.036404</td>\n",
       "      <td>176.569941</td>\n",
       "      <td>45.722905</td>\n",
       "      <td>118.347509</td>\n",
       "      <td>113.597193</td>\n",
       "      <td>195.040633</td>\n",
       "      <td>424.000249</td>\n",
       "      <td>301.080601</td>\n",
       "    </tr>\n",
       "    <tr>\n",
       "      <th>std</th>\n",
       "      <td>2552.099838</td>\n",
       "      <td>12.900342</td>\n",
       "      <td>23.140843</td>\n",
       "      <td>166.976620</td>\n",
       "      <td>69.222785</td>\n",
       "      <td>151.668221</td>\n",
       "      <td>54.848850</td>\n",
       "      <td>170.201657</td>\n",
       "      <td>61.580675</td>\n",
       "      <td>196.355147</td>\n",
       "      <td>116.360396</td>\n",
       "    </tr>\n",
       "    <tr>\n",
       "      <th>min</th>\n",
       "      <td>0.000000</td>\n",
       "      <td>5.000000</td>\n",
       "      <td>15.880000</td>\n",
       "      <td>-440.500000</td>\n",
       "      <td>-477.500000</td>\n",
       "      <td>-360.000000</td>\n",
       "      <td>-522.500000</td>\n",
       "      <td>-461.000000</td>\n",
       "      <td>-410.000000</td>\n",
       "      <td>11.000000</td>\n",
       "      <td>13.730000</td>\n",
       "    </tr>\n",
       "    <tr>\n",
       "      <th>25%</th>\n",
       "      <td>2979.000000</td>\n",
       "      <td>22.000000</td>\n",
       "      <td>70.300000</td>\n",
       "      <td>87.500000</td>\n",
       "      <td>127.500000</td>\n",
       "      <td>-90.000000</td>\n",
       "      <td>79.380000</td>\n",
       "      <td>110.000000</td>\n",
       "      <td>147.500000</td>\n",
       "      <td>272.160000</td>\n",
       "      <td>237.380000</td>\n",
       "    </tr>\n",
       "    <tr>\n",
       "      <th>50%</th>\n",
       "      <td>5960.000000</td>\n",
       "      <td>28.000000</td>\n",
       "      <td>83.200000</td>\n",
       "      <td>145.000000</td>\n",
       "      <td>174.630000</td>\n",
       "      <td>90.250000</td>\n",
       "      <td>115.000000</td>\n",
       "      <td>157.500000</td>\n",
       "      <td>195.000000</td>\n",
       "      <td>424.110000</td>\n",
       "      <td>319.660000</td>\n",
       "    </tr>\n",
       "    <tr>\n",
       "      <th>75%</th>\n",
       "      <td>7175.000000</td>\n",
       "      <td>39.000000</td>\n",
       "      <td>100.000000</td>\n",
       "      <td>212.500000</td>\n",
       "      <td>217.720000</td>\n",
       "      <td>167.500000</td>\n",
       "      <td>150.000000</td>\n",
       "      <td>219.990000</td>\n",
       "      <td>238.140000</td>\n",
       "      <td>565.000000</td>\n",
       "      <td>379.290000</td>\n",
       "    </tr>\n",
       "    <tr>\n",
       "      <th>max</th>\n",
       "      <td>8481.000000</td>\n",
       "      <td>95.000000</td>\n",
       "      <td>242.400000</td>\n",
       "      <td>450.000000</td>\n",
       "      <td>573.790000</td>\n",
       "      <td>378.750000</td>\n",
       "      <td>488.500000</td>\n",
       "      <td>418.000000</td>\n",
       "      <td>460.400000</td>\n",
       "      <td>1365.310000</td>\n",
       "      <td>779.380000</td>\n",
       "    </tr>\n",
       "  </tbody>\n",
       "</table>\n",
       "</div>"
      ],
      "text/plain": [
       "              MeetID            Age   BodyweightKg     Squat4Kg  \\\n",
       "count  386414.000000  147147.000000  384012.000000  1243.000000   \n",
       "mean     5143.015804      31.668237      86.934912   107.036404   \n",
       "std      2552.099838      12.900342      23.140843   166.976620   \n",
       "min         0.000000       5.000000      15.880000  -440.500000   \n",
       "25%      2979.000000      22.000000      70.300000    87.500000   \n",
       "50%      5960.000000      28.000000      83.200000   145.000000   \n",
       "75%      7175.000000      39.000000     100.000000   212.500000   \n",
       "max      8481.000000      95.000000     242.400000   450.000000   \n",
       "\n",
       "         BestSquatKg     Bench4Kg    BestBenchKg  Deadlift4Kg  BestDeadliftKg  \\\n",
       "count  298071.000000  1962.000000  356364.000000  2800.000000   317847.000000   \n",
       "mean      176.569941    45.722905     118.347509   113.597193      195.040633   \n",
       "std        69.222785   151.668221      54.848850   170.201657       61.580675   \n",
       "min      -477.500000  -360.000000    -522.500000  -461.000000     -410.000000   \n",
       "25%       127.500000   -90.000000      79.380000   110.000000      147.500000   \n",
       "50%       174.630000    90.250000     115.000000   157.500000      195.000000   \n",
       "75%       217.720000   167.500000     150.000000   219.990000      238.140000   \n",
       "max       573.790000   378.750000     488.500000   418.000000      460.400000   \n",
       "\n",
       "             TotalKg          Wilks  \n",
       "count  363237.000000  362194.000000  \n",
       "mean      424.000249     301.080601  \n",
       "std       196.355147     116.360396  \n",
       "min        11.000000      13.730000  \n",
       "25%       272.160000     237.380000  \n",
       "50%       424.110000     319.660000  \n",
       "75%       565.000000     379.290000  \n",
       "max      1365.310000     779.380000  "
      ]
     },
     "execution_count": 6,
     "metadata": {},
     "output_type": "execute_result"
    }
   ],
   "source": [
    "participants.describe()"
   ]
  },
  {
   "cell_type": "code",
   "execution_count": 7,
   "metadata": {},
   "outputs": [
    {
     "name": "stdout",
     "output_type": "stream",
     "text": [
      "<class 'pandas.core.frame.DataFrame'>\n",
      "RangeIndex: 8482 entries, 0 to 8481\n",
      "Data columns (total 8 columns):\n",
      "MeetID         8482 non-null int64\n",
      "MeetPath       8482 non-null object\n",
      "Federation     8482 non-null object\n",
      "Date           8482 non-null object\n",
      "MeetCountry    8482 non-null object\n",
      "MeetState      5496 non-null object\n",
      "MeetTown       6973 non-null object\n",
      "MeetName       8482 non-null object\n",
      "dtypes: int64(1), object(7)\n",
      "memory usage: 530.2+ KB\n"
     ]
    }
   ],
   "source": [
    "meetings.info()"
   ]
  },
  {
   "cell_type": "markdown",
   "metadata": {},
   "source": [
    "## Предобработка данных"
   ]
  },
  {
   "cell_type": "markdown",
   "metadata": {},
   "source": [
    "Удалим столбцы Squat4Kg, Bench4Kg, Deadlift4Kg как малоинформативные"
   ]
  },
  {
   "cell_type": "code",
   "execution_count": 8,
   "metadata": {},
   "outputs": [],
   "source": [
    "participants = participants.drop(['Squat4Kg', 'Bench4Kg', 'Deadlift4Kg'], axis=1)"
   ]
  },
  {
   "cell_type": "markdown",
   "metadata": {},
   "source": [
    "Для удобства объединим две таблицы в одну (INNER JOIN) по столбцу MeetID"
   ]
  },
  {
   "cell_type": "code",
   "execution_count": 9,
   "metadata": {},
   "outputs": [],
   "source": [
    "df = pd.merge(participants, meetings, on='MeetID').drop_duplicates()"
   ]
  },
  {
   "cell_type": "markdown",
   "metadata": {},
   "source": [
    "## Визуальный анализ данных"
   ]
  },
  {
   "cell_type": "code",
   "execution_count": 10,
   "metadata": {},
   "outputs": [],
   "source": [
    "%matplotlib inline\n",
    "import matplotlib.pyplot as plt\n",
    "import numpy as np"
   ]
  },
  {
   "cell_type": "code",
   "execution_count": 11,
   "metadata": {},
   "outputs": [
    {
     "data": {
      "text/plain": [
       "2016"
      ]
     },
     "execution_count": 11,
     "metadata": {},
     "output_type": "execute_result"
    }
   ],
   "source": [
    "int(df.loc[:0, 'Date'][0][:4])"
   ]
  },
  {
   "cell_type": "code",
   "execution_count": 23,
   "metadata": {},
   "outputs": [],
   "source": [
    "from scipy import stats\n",
    "\n",
    "df_male_wilks = df[df.Sex == 'M']['Wilks'].dropna()\n",
    "df_female_wilks = df[df.Sex == 'F']['Wilks'].dropna()\n",
    "\n",
    "def calculate_random_sample_group(sz = 10):\n",
    "    sample_groups = []\n",
    "    for i in range(2):\n",
    "        sample_groups.append(np.random.choice(df_male_wilks, size = sz))\n",
    "    #sample_groups.append(np.random.choice(df_female_wilks, size = sz))\n",
    "    F, p = stats.f_oneway(sample_groups[0],sample_groups[1])    \n",
    "    return sample_groups, F\n",
    "\n",
    "Fs = []\n",
    "sgs = []\n",
    "for i in range(30000):\n",
    "    sg,F = calculate_random_sample_group()\n",
    "    Fs.append(F)\n",
    "    sgs.append(sg)"
   ]
  },
  {
   "cell_type": "code",
   "execution_count": 24,
   "metadata": {},
   "outputs": [
    {
     "data": {
      "image/png": "[encoded data removed]",
      "text/plain": [
       "<Figure size 720x432 with 1 Axes>"
      ]
     },
     "metadata": {
      "needs_background": "light"
     },
     "output_type": "display_data"
    }
   ],
   "source": [
    "fig, ax = plt.subplots(figsize=(10, 6))\n",
    "plt.hist(Fs,bins = 200)\n",
    "plt.show()"
   ]
  },
  {
   "cell_type": "markdown",
   "metadata": {},
   "source": [
    "## Проверка статистических гипотез"
   ]
  },
  {
   "cell_type": "code",
   "execution_count": null,
   "metadata": {},
   "outputs": [],
   "source": []
  },
  {
   "cell_type": "markdown",
   "metadata": {},
   "source": [
    "## Предсказание временного ряда"
   ]
  },
  {
   "cell_type": "code",
   "execution_count": null,
   "metadata": {},
   "outputs": [],
   "source": []
  }
 ],
 "metadata": {
  "kernelspec": {
   "display_name": "Python 3",
   "language": "python",
   "name": "python3"
  },
  "language_info": {
   "codemirror_mode": {
    "name": "ipython",
    "version": 3
   },
   "file_extension": ".py",
   "mimetype": "text/x-python",
   "name": "python",
   "nbconvert_exporter": "python",
   "pygments_lexer": "ipython3",
   "version": "3.7.3"
  }
 },
 "nbformat": 4,
 "nbformat_minor": 2
}
