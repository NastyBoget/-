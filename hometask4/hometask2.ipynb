{
 "cells": [
  {
   "cell_type": "markdown",
   "metadata": {},
   "source": [
    "task A"
   ]
  },
  {
   "cell_type": "code",
   "execution_count": 1,
   "metadata": {},
   "outputs": [
    {
     "data": {
      "text/plain": [
       "['pppp', 'yyyy', 'tttt', 'hhhh', 'oooo', 'nnnn']"
      ]
     },
     "execution_count": 1,
     "metadata": {},
     "output_type": "execute_result"
    }
   ],
   "source": [
    "[x*4 for x in 'python']"
   ]
  },
  {
   "cell_type": "code",
   "execution_count": 2,
   "metadata": {},
   "outputs": [
    {
     "data": {
      "text/plain": [
       "['p', 'yy', 'ttt', 'hhhh', 'ooooo', 'nnnnnn']"
      ]
     },
     "execution_count": 2,
     "metadata": {},
     "output_type": "execute_result"
    }
   ],
   "source": [
    "[x*('python'.index(x) + 1) for x in 'python']"
   ]
  },
  {
   "cell_type": "code",
   "execution_count": 4,
   "metadata": {},
   "outputs": [
    {
     "data": {
      "text/plain": [
       "[0, 3, 5, 6, 9, 10, 12, 15]"
      ]
     },
     "execution_count": 4,
     "metadata": {},
     "output_type": "execute_result"
    }
   ],
   "source": [
    "[x for x in range(16) if x % 3 == 0 or x % 5 == 0] #!!!!"
   ]
  },
  {
   "cell_type": "code",
   "execution_count": 7,
   "metadata": {},
   "outputs": [
    {
     "data": {
      "text/plain": [
       "[1, 2, 3, 4, 5, 6, 7, 8, 9, 0]"
      ]
     },
     "execution_count": 7,
     "metadata": {},
     "output_type": "execute_result"
    }
   ],
   "source": [
    "[y for x in [[1, 2, 3], [4, 5, 6, 7], [8, 9], [0]] for y in x]"
   ]
  },
  {
   "cell_type": "code",
   "execution_count": 7,
   "metadata": {},
   "outputs": [
    {
     "name": "stdout",
     "output_type": "stream",
     "text": [
      "15\n"
     ]
    },
    {
     "data": {
      "text/plain": [
       "[(3, 4, 5), (5, 12, 13), (6, 8, 10), (9, 12, 15)]"
      ]
     },
     "execution_count": 7,
     "metadata": {},
     "output_type": "execute_result"
    }
   ],
   "source": [
    "arg = int(input()) #!!!\n",
    "[(i, j, int((i**2 + j**2)**(1/2))) for i in range(1, arg) \\\n",
    " for j in range(i + 1, arg + 1) if (i**2 + j ** 2 <= arg**2) and \\\n",
    " ((i**2 + j ** 2)**(1/2) - int((i**2 + j ** 2)**(1/2))== 0)]"
   ]
  },
  {
   "cell_type": "code",
   "execution_count": 23,
   "metadata": {},
   "outputs": [
    {
     "data": {
      "text/plain": [
       "[[0, 1, 2, 3, 4], [1, 2, 3, 4, 5], [2, 3, 4, 5, 6]]"
      ]
     },
     "execution_count": 23,
     "metadata": {},
     "output_type": "execute_result"
    }
   ],
   "source": [
    "a = ([0, 1, 2], [0, 1, 2, 3, 4])\n",
    "[[a[1][j] + a[0][i] for j in range(len(a[1]))] for i in range(len(a[0]))]"
   ]
  },
  {
   "cell_type": "code",
   "execution_count": 30,
   "metadata": {},
   "outputs": [
    {
     "data": {
      "text/plain": [
       "[[1, 2], [3, 4], [5, 6]]"
      ]
     },
     "execution_count": 30,
     "metadata": {},
     "output_type": "execute_result"
    }
   ],
   "source": [
    "a = [[1, 3, 5], [2, 4, 6]] \n",
    "[[a[i][j] for i in range(len(a))] for j in range(len(a[0]))]"
   ]
  },
  {
   "cell_type": "code",
   "execution_count": 32,
   "metadata": {},
   "outputs": [
    {
     "data": {
      "text/plain": [
       "[[0], [1, 2, 3], [4, 5, 6, 7], [8, 9]]"
      ]
     },
     "execution_count": 32,
     "metadata": {},
     "output_type": "execute_result"
    }
   ],
   "source": [
    "a = [\"0\", \"1 2 3\", \"4 5 6 7\", \"8 9\"]\n",
    "[list(map(int, x.split())) for x in a]"
   ]
  },
  {
   "cell_type": "code",
   "execution_count": 35,
   "metadata": {},
   "outputs": [
    {
     "data": {
      "text/plain": [
       "{'a': 0, 'b': 1, 'c': 4, 'd': 9, 'e': 16, 'f': 25, 'g': 36}"
      ]
     },
     "execution_count": 35,
     "metadata": {},
     "output_type": "execute_result"
    }
   ],
   "source": [
    "#!!!\n",
    "{chr(ord('a') + v): v**2 for v in range(0, 7)}"
   ]
  },
  {
   "cell_type": "code",
   "execution_count": 39,
   "metadata": {},
   "outputs": [
    {
     "data": {
      "text/plain": [
       "{'Alice', 'Anton', 'Kamila', 'Nastya', 'Vova'}"
      ]
     },
     "execution_count": 39,
     "metadata": {},
     "output_type": "execute_result"
    }
   ],
   "source": [
    "a = ['Alice', 'vova', 'ANTON', 'Bob', 'kAMILA', 'CJ', 'ALICE', 'Nastya']\n",
    "{chr(ord(x[0])+ord('A')-ord('a'))+x[1:] \\\n",
    " for x in set([y.lower() for y in a if len(y) > 3])}"
   ]
  },
  {
   "cell_type": "code",
   "execution_count": 1,
   "metadata": {},
   "outputs": [],
   "source": [
    "def solution1(arg):\n",
    "    return [x*4 for x in arg]\n",
    "def solution2(arg):\n",
    "    return [x*(arg.index(x) + 1) for x in arg]\n",
    "def solution3(arg):\n",
    "    arg = int(arg)\n",
    "    return [x for x in range(arg) if x % 3 == 0 or x % 5 == 0]\n",
    "def solution4(arg):\n",
    "    return [y for x in arg for y in x]\n",
    "def solution5(arg):\n",
    "    arg = int(arg)\n",
    "    return [(i, j, int((i**2 + j**2)**(1/2))) for i in range(1, arg) for j in range(i + 1, n + 1) if (i**2 + j ** 2 <= arg**2) and (i**2 + j ** 2)**(1/2) - int((i**2 + j ** 2)**(1/2))== 0]\n",
    "def solution6(a):\n",
    "    return [[a[1][j] + a[0][i] for j in range(len(a[1]))] for i in range(len(a[0]))]\n",
    "def solution7(a):\n",
    "    return [[a[i][j] for i in range(len(a))] for j in range(len(a[0]))]\n",
    "def solution8(a):\n",
    "    return [list(map(int, x.split())) for x in a]\n",
    "def solution9(arg):\n",
    "    arg = int(arg)\n",
    "    return {chr(ord('a') + v): v**2 for v in range(0, arg)}\n",
    "def solution10(a):\n",
    "    return {chr(ord(x[0])+ord('A')-ord('a'))+x[1:] \\\n",
    "    for x in set([y.lower() for y in a if len(y) > 3])}\n",
    "solutions = {\n",
    "    'solution1': solution1,\n",
    "    'solution2': solution2,\n",
    "    'solution3': solution3,\n",
    "    'solution4': solution4,\n",
    "    'solution5': solution5,\n",
    "    'solution6': solution6,\n",
    "    'solution7': solution7,\n",
    "    'solution8': solution8,\n",
    "    'solution9': solution9,\n",
    "    'solution10': solution10,\n",
    "}"
   ]
  },
  {
   "cell_type": "markdown",
   "metadata": {},
   "source": [
    "task B"
   ]
  },
  {
   "cell_type": "code",
   "execution_count": 10,
   "metadata": {},
   "outputs": [
    {
     "data": {
      "text/plain": [
       "[21, 652, 2048, 1996]"
      ]
     },
     "execution_count": 10,
     "metadata": {},
     "output_type": "execute_result"
    }
   ],
   "source": [
    "from functools import reduce\n",
    "from operator import add\n",
    "list(map(lambda x: int(reduce(add, list(filter \\\n",
    "(lambda y: y >= '0' and y <= '9', x)))[::-1]), ['12', '25.6', '84,02', '  69-91'])) "
   ]
  },
  {
   "cell_type": "code",
   "execution_count": 13,
   "metadata": {},
   "outputs": [
    {
     "data": {
      "text/plain": [
       "[6, 15, 28]"
      ]
     },
     "execution_count": 13,
     "metadata": {},
     "output_type": "execute_result"
    }
   ],
   "source": [
    "list(map(lambda x: x[0] * x[1],\n",
    "         list(zip(range(2, 5), range(3, 9, 2)))))"
   ]
  },
  {
   "cell_type": "code",
   "execution_count": 16,
   "metadata": {},
   "outputs": [
    {
     "data": {
      "text/plain": [
       "[0, 2, 5, 6, 8, 11, 12, 14, 17, 18]"
      ]
     },
     "execution_count": 16,
     "metadata": {},
     "output_type": "execute_result"
    }
   ],
   "source": [
    "list(filter(lambda x: x % 6 == 0 or x % 6 == 2 or x % 6 == 5,\n",
    "           range(20)))"
   ]
  },
  {
   "cell_type": "code",
   "execution_count": 21,
   "metadata": {},
   "outputs": [
    {
     "data": {
      "text/plain": [
       "[25, 'python', ('msu', '1755-01-25')]"
      ]
     },
     "execution_count": 21,
     "metadata": {},
     "output_type": "execute_result"
    }
   ],
   "source": [
    "list(filter(lambda x: bool(x), ['', 25, None, 'python', 0.0, [], ('msu', '1755-01-25')]))"
   ]
  },
  {
   "cell_type": "code",
   "execution_count": 40,
   "metadata": {},
   "outputs": [],
   "source": [
    "rooms = [\n",
    "    {\"name\": \"комната1\", \"width\": 2, \"length\": 4},\n",
    "    {\"name\": \"комната2\", \"width\": 2.5, \"length\": 5.6},\n",
    "    {\"name\": \"кухня\", \"width\": 3.5, \"length\": 4},\n",
    "    {\"name\": \"туалет\", \"width\": 1.5, \"length\": 1.5},\n",
    "]"
   ]
  },
  {
   "cell_type": "code",
   "execution_count": 41,
   "metadata": {},
   "outputs": [
    {
     "data": {
      "text/plain": [
       "[{'name': 'комната1', 'width': 2, 'length': 4, 'square': 8},\n",
       " {'name': 'комната2', 'width': 2.5, 'length': 5.6, 'square': 14.0},\n",
       " {'name': 'кухня', 'width': 3.5, 'length': 4, 'square': 14.0},\n",
       " {'name': 'туалет', 'width': 1.5, 'length': 1.5, 'square': 2.25}]"
      ]
     },
     "execution_count": 41,
     "metadata": {},
     "output_type": "execute_result"
    }
   ],
   "source": [
    "from operator import setitem\n",
    "list(map(lambda x: setitem(x, 'square', x['width'] * x['length']),rooms))\n",
    "rooms"
   ]
  },
  {
   "cell_type": "code",
   "execution_count": 33,
   "metadata": {},
   "outputs": [],
   "source": [
    "rooms = [\n",
    "    {\"name\": \"комната1\", \"width\": 2, \"length\": 4},\n",
    "    {\"name\": \"комната2\", \"width\": 2.5, \"length\": 5.6},\n",
    "    {\"name\": \"кухня\", \"width\": 3.5, \"length\": 4},\n",
    "    {\"name\": \"туалет\", \"width\": 1.5, \"length\": 1.5},\n",
    "]"
   ]
  },
  {
   "cell_type": "code",
   "execution_count": 34,
   "metadata": {},
   "outputs": [
    {
     "data": {
      "text/plain": [
       "[{'name': 'комната1', 'width': 2, 'length': 4, 'square': 8},\n",
       " {'name': 'комната2', 'width': 2.5, 'length': 5.6, 'square': 14.0},\n",
       " {'name': 'кухня', 'width': 3.5, 'length': 4, 'square': 14.0},\n",
       " {'name': 'туалет', 'width': 1.5, 'length': 1.5, 'square': 2.25}]"
      ]
     },
     "execution_count": 34,
     "metadata": {},
     "output_type": "execute_result"
    }
   ],
   "source": [
    "list(map(lambda x: dict(x, square=x['width'] * x['length']),rooms))"
   ]
  },
  {
   "cell_type": "code",
   "execution_count": 36,
   "metadata": {},
   "outputs": [
    {
     "data": {
      "text/plain": [
       "{3, 4, 5}"
      ]
     },
     "execution_count": 36,
     "metadata": {},
     "output_type": "execute_result"
    }
   ],
   "source": [
    "reduce(lambda x, y: x.intersection(y),[{1, 2, 3, 4, 5}, {2, 3, 4, 5, 6}, {3, 4, 5, 6, 7}])"
   ]
  },
  {
   "cell_type": "code",
   "execution_count": 58,
   "metadata": {},
   "outputs": [
    {
     "data": {
      "text/plain": [
       "{1: 3, 3: 2, 2: 4, 4: 2}"
      ]
     },
     "execution_count": 58,
     "metadata": {},
     "output_type": "execute_result"
    }
   ],
   "source": [
    "from operator import setitem\n",
    "reduce(lambda d, x: setitem(d, x, d.pop(x, 0) + 1) or d,\n",
    "       [1, 2, 1, 1, 3, 2, 3, 2, 4, 2, 4], {})"
   ]
  },
  {
   "cell_type": "code",
   "execution_count": 61,
   "metadata": {},
   "outputs": [
    {
     "data": {
      "text/plain": [
       "['Alina', 'Sergey', 'Valya']"
      ]
     },
     "execution_count": 61,
     "metadata": {},
     "output_type": "execute_result"
    }
   ],
   "source": [
    "students = [\n",
    "    {'name': 'Alina', 'gpa': 4.57},\n",
    "    {'name': 'Sergey', 'gpa': 5.0},\n",
    "    {'name': 'Nastya', 'gpa': 4.21},\n",
    "    {'name': 'Valya', 'gpa': 4.72},\n",
    "    {'name': 'Anton', 'gpa': 4.32},\n",
    "]\n",
    "list(map(lambda x: x['name'],list(filter(lambda d: d['gpa'] > 4.5, students))))"
   ]
  },
  {
   "cell_type": "code",
   "execution_count": 2,
   "metadata": {},
   "outputs": [
    {
     "data": {
      "text/plain": [
       "['165033', '475145', '238018']"
      ]
     },
     "execution_count": 2,
     "metadata": {},
     "output_type": "execute_result"
    }
   ],
   "source": [
    "list(filter(lambda x: sum(list(map(int,x[::2])))\n",
    "== sum(list(map(int, x[1::2]))), \n",
    "['165033', '477329', '631811', \n",
    "'478117','475145', '238018', '917764', '394286']))"
   ]
  },
  {
   "cell_type": "markdown",
   "metadata": {},
   "source": [
    "task C"
   ]
  },
  {
   "cell_type": "code",
   "execution_count": 26,
   "metadata": {},
   "outputs": [],
   "source": [
    "import time\n",
    "def timeout(rps):\n",
    "    def decorator(func):\n",
    "        import functools\n",
    "        @functools.wraps(func)    \n",
    "        def wrapper(*args, **kwargs):\n",
    "            t = time.time()\n",
    "            res = func(*args, **kwargs)\n",
    "            delta_t = time.time() - t\n",
    "            if delta_t < 1 / float(rps):\n",
    "                time.sleep(1 / float(rps) - delta_t)\n",
    "            return res\n",
    "        return wrapper\n",
    "    return decorator"
   ]
  },
  {
   "cell_type": "code",
   "execution_count": 27,
   "metadata": {},
   "outputs": [
    {
     "name": "stdout",
     "output_type": "stream",
     "text": [
      "2.01\n"
     ]
    }
   ],
   "source": [
    "import random\n",
    "import time\n",
    "\n",
    "@timeout(rps=5)\n",
    "def func():\n",
    "    time.sleep(random.random() * 0.1)\n",
    "\n",
    "if __name__ == \"__main__\":\n",
    "    t_start = time.time()\n",
    "    for i in range(10):\n",
    "        func()\n",
    "    t_delta = time.time() - t_start\n",
    "    print(\"{:.2f}\".format(t_delta))"
   ]
  },
  {
   "cell_type": "markdown",
   "metadata": {},
   "source": [
    "task D \n",
    "Напишите декоратор @counter, который позволял бы посчитать глубину рекурсии функции и количество рекурсивных вызовов функции.\n",
    "Декоратор должен создать два атрибута для функции:\n",
    "    ncalls — число вызовов функции;\n",
    "    rdepth — глубина рекурсии.\n",
    "Счётчики ncalls и rdepth должны обнуляться при каждом новом входе в рекурсию."
   ]
  },
  {
   "cell_type": "code",
   "execution_count": 1,
   "metadata": {},
   "outputs": [],
   "source": [
    "def counter(func): #декоратор вызывается 1 раз когда декорируется функция\n",
    "    counter.rdepth = 0\n",
    "    counter.maxdepth = 0\n",
    "    import functools\n",
    "    @functools.wraps(func)    \n",
    "    def wrapper(*args, **kwargs): #обертка вызывается каждый раз когда вызывается функция\n",
    "        if counter.rdepth == 0:\n",
    "            counter.maxdepth = 0\n",
    "            wrapper.ncalls = 0\n",
    "        wrapper.ncalls += 1\n",
    "        counter.rdepth += 1\n",
    "        if counter.rdepth > counter.maxdepth:\n",
    "            counter.maxdepth = counter.rdepth\n",
    "        wrapper.rdepth = counter.maxdepth\n",
    "        res = func(*args, **kwargs)\n",
    "        counter.rdepth -= 1\n",
    "        return res\n",
    "    wrapper.ncalls = 0\n",
    "    wrapper.rdepth = 0\n",
    "    return wrapper"
   ]
  },
  {
   "cell_type": "code",
   "execution_count": 4,
   "metadata": {},
   "outputs": [
    {
     "name": "stdout",
     "output_type": "stream",
     "text": [
      "63 6\n",
      "15 4\n",
      "7 3\n"
     ]
    }
   ],
   "source": [
    "@counter\n",
    "def func2(n, steps):\n",
    "    if steps == 0:\n",
    "        return 0\n",
    "\n",
    "    func2(n + 1, steps - 1)\n",
    "    func2(n - 1, steps - 1)\n",
    "    return 0\n",
    "\n",
    "if __name__ == \"__main__\":\n",
    "    func2(0, 5)\n",
    "    print(func2.ncalls, func2.rdepth)\n",
    "\n",
    "    func2(0, 3)\n",
    "    print(func2.ncalls, func2.rdepth)\n",
    "    \n",
    "    func2(2, 2)\n",
    "    print(func2.ncalls, func2.rdepth)"
   ]
  },
  {
   "cell_type": "code",
   "execution_count": 77,
   "metadata": {},
   "outputs": [
    {
     "name": "stdout",
     "output_type": "stream",
     "text": [
      "1 1\n",
      "1 1\n",
      "1 1\n",
      "7 3\n"
     ]
    }
   ],
   "source": [
    "@counter\n",
    "def func1():\n",
    "    return\n",
    "\n",
    "if __name__ == \"__main__\":\n",
    "    func1()\n",
    "    print(func1.ncalls, func1.rdepth)\n",
    "\n",
    "    func1()\n",
    "    print(func1.ncalls, func1.rdepth)\n",
    "    \n",
    "    func1()\n",
    "    print(func1.ncalls, func1.rdepth)"
   ]
  },
  {
   "cell_type": "code",
   "execution_count": 3,
   "metadata": {},
   "outputs": [
    {
     "name": "stdout",
     "output_type": "stream",
     "text": [
      "0 0\n"
     ]
    }
   ],
   "source": [
    "@counter\n",
    "def func0():\n",
    "    return\n",
    "print(func0.ncalls, func0.rdepth)"
   ]
  },
  {
   "cell_type": "markdown",
   "metadata": {},
   "source": [
    "task E"
   ]
  },
  {
   "cell_type": "code",
   "execution_count": 103,
   "metadata": {},
   "outputs": [],
   "source": [
    "a = [[0, 1], [2, 3], [4]]"
   ]
  },
  {
   "cell_type": "code",
   "execution_count": 104,
   "metadata": {},
   "outputs": [],
   "source": [
    "def permutations(items):\n",
    "    n = len(items)\n",
    "    if n==0:\n",
    "        yield []\n",
    "    else:\n",
    "        for i in range(len(items)):\n",
    "            for cc in permutations(items[:i]+items[i+1:]):\n",
    "                yield [items[i]]+cc\n",
    "def product(a):\n",
    "    if not a:\n",
    "        yield ()\n",
    "    else:\n",
    "        for x in a[0]:\n",
    "            for y in product(a[1:]):\n",
    "                yield (x,) + y"
   ]
  },
  {
   "cell_type": "code",
   "execution_count": 105,
   "metadata": {},
   "outputs": [
    {
     "name": "stdout",
     "output_type": "stream",
     "text": [
      "(0, 2, 4)\n",
      "(0, 3, 4)\n",
      "(1, 2, 4)\n",
      "(1, 3, 4)\n"
     ]
    }
   ],
   "source": [
    "a = [[0, 1], [2, 3], [4]]\n",
    "for e in product(a):\n",
    "    print(e)"
   ]
  },
  {
   "cell_type": "code",
   "execution_count": 106,
   "metadata": {},
   "outputs": [
    {
     "name": "stdout",
     "output_type": "stream",
     "text": [
      "(0, 'p')\n",
      "(0, 'y')\n",
      "(0, 't')\n",
      "(0, 'h')\n",
      "(0, 'o')\n",
      "(0, 'n')\n",
      "(1, 'p')\n",
      "(1, 'y')\n",
      "(1, 't')\n",
      "(1, 'h')\n",
      "(1, 'o')\n",
      "(1, 'n')\n"
     ]
    }
   ],
   "source": [
    "a = [[0, 1], 'python']\n",
    "for e in product(a):\n",
    "    print(e)"
   ]
  },
  {
   "cell_type": "markdown",
   "metadata": {},
   "source": [
    "task F"
   ]
  },
  {
   "cell_type": "code",
   "execution_count": 120,
   "metadata": {},
   "outputs": [
    {
     "name": "stdout",
     "output_type": "stream",
     "text": [
      "2\n"
     ]
    }
   ],
   "source": [
    "from itertools import permutations\n",
    "n = int(input())\n",
    "a = [0] * n + [1] * n\n",
    "s = set()\n",
    "for e in permutations(a):\n",
    "    s.add(e)"
   ]
  },
  {
   "cell_type": "code",
   "execution_count": 24,
   "metadata": {},
   "outputs": [],
   "source": [
    "from collections import Counter\n",
    "def is_correct(seq):\n",
    "    cnt = Counter(seq)\n",
    "    if cnt['0'] != cnt['1']:\n",
    "        return False\n",
    "    for k in range(len(seq), 0, -1):\n",
    "        cnt = Counter(seq[:k])\n",
    "        if cnt['0'] < cnt['1']:\n",
    "            return False\n",
    "    return True"
   ]
  },
  {
   "cell_type": "code",
   "execution_count": 25,
   "metadata": {},
   "outputs": [
    {
     "name": "stdout",
     "output_type": "stream",
     "text": [
      "10\n",
      "10\n",
      "10\n",
      "10\n",
      "10\n",
      "10\n",
      "10\n",
      "10\n",
      "30.8 s ± 9.94 s per loop (mean ± std. dev. of 7 runs, 1 loop each)\n"
     ]
    }
   ],
   "source": [
    "%%timeit\n",
    "import re\n",
    "n = int(input())\n",
    "if n != 0:\n",
    "    begin = int('0' * n + '1' * n, 2)\n",
    "    end = int('01' * n, 2)\n",
    "    for i in range(begin, end + 1):\n",
    "        s = str(bin(i))\n",
    "        seq = '0' * (2 * n - len(s) + 2) + s[2:]\n",
    "        if is_correct(seq):\n",
    "            seq = re.sub(r'0', '(' , seq)\n",
    "            seq = re.sub(r'1', ')' , seq)\n",
    "            #print(seq)"
   ]
  },
  {
   "cell_type": "code",
   "execution_count": 46,
   "metadata": {},
   "outputs": [
    {
     "name": "stdout",
     "output_type": "stream",
     "text": [
      "2\n",
      "(())\n",
      "()()\n"
     ]
    }
   ],
   "source": [
    "def gen(n, left, right, res):\n",
    "    if(left + right == 2 * n):\n",
    "        yield res\n",
    "    if(left < n):\n",
    "        yield from gen(n, left + 1, right, res + '(')\n",
    "    if(right < left):\n",
    "        yield from gen(n, left, right + 1, res + ')')\n",
    "def brackets(n):\n",
    "    yield from gen(n, 0, 0, '')\n",
    "    \n",
    "try:\n",
    "    n = int(input())\n",
    "    print(*list(brackets(n)), sep='\\n')\n",
    "except:\n",
    "    pass"
   ]
  },
  {
   "cell_type": "markdown",
   "metadata": {},
   "source": [
    "task H"
   ]
  },
  {
   "cell_type": "code",
   "execution_count": 82,
   "metadata": {},
   "outputs": [],
   "source": [
    "from collections import deque\n",
    "class BinarySearchTree:\n",
    "    \n",
    "    def __init__(self, value=None):\n",
    "        self.value = value\n",
    "        if not value is None:\n",
    "            self.left = BinarySearchTree()\n",
    "            self.right = BinarySearchTree()\n",
    "            \n",
    "    def append(self, value):\n",
    "        if not self.value is None:\n",
    "            if self.value > value:\n",
    "                self.left.append(value)\n",
    "            else:\n",
    "                self.right.append(value)\n",
    "        else:\n",
    "            self.value = value\n",
    "            self.left = BinarySearchTree()\n",
    "            self.right = BinarySearchTree()\n",
    "            \n",
    "    def __contains__(self, value):\n",
    "        while not self.value is None:\n",
    "            if self.value == value:\n",
    "                return True\n",
    "            elif self.value > value:\n",
    "                return value in self.left\n",
    "            else:\n",
    "                return value in self.right\n",
    "            \n",
    "    def __iter__(self):\n",
    "        self.it = deque()\n",
    "        self.it.append(self)\n",
    "        return self\n",
    "    \n",
    "    def __next__(self):\n",
    "        if len(self.it):\n",
    "            next_v = self.it.popleft()\n",
    "            if (len(self.it) == 0) and next_v.value is None:\n",
    "                raise StopIteration()\n",
    "            while((len(self.it) != 0) and next_v.value is None):\n",
    "                next_v = self.it.popleft()\n",
    "            if next_v.value is None:\n",
    "                raise StopIteration()\n",
    "            self.it.append(next_v.left)\n",
    "            self.it.append(next_v.right)\n",
    "            return next_v.value\n",
    "        else:\n",
    "            raise StopIteration()"
   ]
  },
  {
   "cell_type": "code",
   "execution_count": 83,
   "metadata": {},
   "outputs": [
    {
     "name": "stdout",
     "output_type": "stream",
     "text": [
      "True\n",
      "False\n",
      "True\n",
      "8 3 10 1 6 14 4 7 13\n"
     ]
    }
   ],
   "source": [
    "if __name__ == '__main__':\n",
    "    tree = BinarySearchTree()\n",
    "    for v in [8, 3, 10, 1, 6, 4, 14, 13, 7]:\n",
    "        tree.append(v)\n",
    "\n",
    "    for v in [8, 12, 13]:\n",
    "        print(v in tree)\n",
    "\n",
    "    print(*tree)"
   ]
  },
  {
   "cell_type": "code",
   "execution_count": 84,
   "metadata": {},
   "outputs": [
    {
     "name": "stdout",
     "output_type": "stream",
     "text": [
      "3 3 3\n"
     ]
    }
   ],
   "source": [
    "tree = BinarySearchTree()\n",
    "for v in [3, 3, 3]:\n",
    "    tree.append(v)\n",
    "print(*tree)"
   ]
  },
  {
   "cell_type": "markdown",
   "metadata": {},
   "source": [
    "task I"
   ]
  },
  {
   "cell_type": "code",
   "execution_count": 142,
   "metadata": {},
   "outputs": [],
   "source": [
    "from copy import deepcopy\n",
    "class FragileDict:\n",
    "    def __init__(self, d=None):\n",
    "        if d:\n",
    "            self._data = deepcopy(d)\n",
    "        else:\n",
    "            self._data = {}\n",
    "        self._lock = False\n",
    "    def __enter__(self):\n",
    "        self._tmp = deepcopy(self._data)\n",
    "        self._lock = True\n",
    "        return self\n",
    "        \n",
    "    def __exit__(self, exception_type, exception_val, trace):\n",
    "        self._lock = False\n",
    "        if exception_type is None:\n",
    "            self._data = deepcopy(self._tmp)\n",
    "            del self._tmp\n",
    "        else:\n",
    "            del self._tmp\n",
    "            print('Exception has been suppressed.')\n",
    "            return True\n",
    "    def __contains__(self, key):\n",
    "        if self._lock:\n",
    "            return key in self._tmp\n",
    "        return key in self._data\n",
    "    def __getitem__(self, key):\n",
    "        if self._lock:\n",
    "            return self._tmp[key]\n",
    "        return deepcopy(self._data[key])\n",
    "    def __setitem__(self, key, value):\n",
    "        if self._lock:\n",
    "            self._tmp[key] = value\n",
    "        else:\n",
    "            raise RuntimeError(\"Protected state\")"
   ]
  },
  {
   "cell_type": "code",
   "execution_count": 143,
   "metadata": {},
   "outputs": [
    {
     "name": "stdout",
     "output_type": "stream",
     "text": [
      "6\n",
      "7\n"
     ]
    }
   ],
   "source": [
    "d = FragileDict({'key': 5})\n",
    "\n",
    "with d:\n",
    "    d['key'] = 6\n",
    "    d['ord'] = 7\n",
    "\n",
    "print(d['key'])\n",
    "print(d['ord'])"
   ]
  },
  {
   "cell_type": "code",
   "execution_count": 144,
   "metadata": {},
   "outputs": [
    {
     "name": "stdout",
     "output_type": "stream",
     "text": [
      "Protected state\n",
      "Protected state\n",
      "True\n",
      "True\n"
     ]
    }
   ],
   "source": [
    "d = FragileDict({'key': 5})\n",
    "\n",
    "try:\n",
    "    d['key'] = 6\n",
    "except RuntimeError as e:\n",
    "    print(e)\n",
    "\n",
    "try:\n",
    "    d['ord'] = 7\n",
    "except RuntimeError as e:\n",
    "    print(e)\n",
    "\n",
    "print(d['key'] == 5)\n",
    "print('ord' not in d)"
   ]
  },
  {
   "cell_type": "code",
   "execution_count": 145,
   "metadata": {},
   "outputs": [
    {
     "name": "stdout",
     "output_type": "stream",
     "text": [
      "6\n",
      "True\n",
      "Exception has been suppressed.\n",
      "5\n",
      "True\n"
     ]
    }
   ],
   "source": [
    "d = FragileDict({'key': 5})\n",
    "\n",
    "with d:\n",
    "    d['key'] = 6\n",
    "    print(d['key'])\n",
    "    d['ord'] = 7\n",
    "    print('ord' in d and d['ord'] == 7)\n",
    "    raise Exception()\n",
    "\n",
    "print(d['key'])\n",
    "print('ord' not in d)\n"
   ]
  },
  {
   "cell_type": "code",
   "execution_count": 146,
   "metadata": {},
   "outputs": [
    {
     "name": "stdout",
     "output_type": "stream",
     "text": [
      "True\n"
     ]
    }
   ],
   "source": [
    "with d:\n",
    "    d['key'] = [10]\n",
    "    a = d['key']\n",
    "    d['key'].append(10)\n",
    "    a.append(10)\n",
    "\n",
    "a.append(10)\n",
    "print(a == [10, 10, 10, 10])\n"
   ]
  },
  {
   "cell_type": "code",
   "execution_count": null,
   "metadata": {},
   "outputs": [],
   "source": []
  }
 ],
 "metadata": {
  "kernelspec": {
   "display_name": "Python 3",
   "language": "python",
   "name": "python3"
  },
  "language_info": {
   "codemirror_mode": {
    "name": "ipython",
    "version": 3
   },
   "file_extension": ".py",
   "mimetype": "text/x-python",
   "name": "python",
   "nbconvert_exporter": "python",
   "pygments_lexer": "ipython3",
   "version": "3.7.3"
  }
 },
 "nbformat": 4,
 "nbformat_minor": 2
}
