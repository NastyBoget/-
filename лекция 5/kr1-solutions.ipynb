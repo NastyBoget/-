{
 "cells": [
  {
   "cell_type": "markdown",
   "metadata": {},
   "source": [
    "# Разбор домашки 😲"
   ]
  },
  {
   "cell_type": "markdown",
   "metadata": {},
   "source": [
    "## Задача A. Оставить различные\n",
    "\n",
    "Дан массив a из n целых чисел. Напишите программу, которая выведет:\n",
    "1. исходный список чисел без дубликатов с сохранением порядка;\n",
    "2. число чисел, которые были удалены из массива."
   ]
  },
  {
   "cell_type": "code",
   "execution_count": 1,
   "metadata": {},
   "outputs": [],
   "source": [
    "from random import randrange\n",
    "\n",
    "a = [randrange(10) for _ in range(1000)]"
   ]
  },
  {
   "cell_type": "code",
   "execution_count": 2,
   "metadata": {},
   "outputs": [],
   "source": [
    "def unique_ordered(a):\n",
    "    visited = set()\n",
    "    for e in a:\n",
    "        if e in visited:\n",
    "            continue\n",
    "        visited.add(e)\n",
    "        yield e"
   ]
  },
  {
   "cell_type": "code",
   "execution_count": 3,
   "metadata": {},
   "outputs": [
    {
     "name": "stdout",
     "output_type": "stream",
     "text": [
      "29.1 µs ± 435 ns per loop (mean ± std. dev. of 7 runs, 10000 loops each)\n"
     ]
    }
   ],
   "source": [
    "%%timeit\n",
    "\n",
    "list(unique_ordered(a))"
   ]
  },
  {
   "cell_type": "code",
   "execution_count": 4,
   "metadata": {},
   "outputs": [],
   "source": [
    "def unique_ordered(a):\n",
    "    visited = set()\n",
    "    yield from (visited.add(e) or e for e in a if e not in visited)"
   ]
  },
  {
   "cell_type": "code",
   "execution_count": 5,
   "metadata": {},
   "outputs": [
    {
     "name": "stdout",
     "output_type": "stream",
     "text": [
      "27.7 µs ± 494 ns per loop (mean ± std. dev. of 7 runs, 10000 loops each)\n"
     ]
    }
   ],
   "source": [
    "%%timeit\n",
    "\n",
    "list(unique_ordered(a))"
   ]
  },
  {
   "cell_type": "code",
   "execution_count": 6,
   "metadata": {},
   "outputs": [],
   "source": [
    "def unique_ordered(a):\n",
    "    visited = set()\n",
    "    return [visited.add(e) or e for e in a if e not in visited]"
   ]
  },
  {
   "cell_type": "code",
   "execution_count": 7,
   "metadata": {},
   "outputs": [
    {
     "name": "stdout",
     "output_type": "stream",
     "text": [
      "27.4 µs ± 713 ns per loop (mean ± std. dev. of 7 runs, 10000 loops each)\n"
     ]
    }
   ],
   "source": [
    "%%timeit\n",
    "\n",
    "unique_ordered(a)"
   ]
  },
  {
   "cell_type": "code",
   "execution_count": 8,
   "metadata": {},
   "outputs": [
    {
     "name": "stdout",
     "output_type": "stream",
     "text": [
      "5 4\n",
      "3\n"
     ]
    }
   ],
   "source": [
    "a = [5, 5, 5, 4, 4]\n",
    "b = unique_ordered(a)\n",
    "\n",
    "print(*b)\n",
    "print(len(a) - len(b))"
   ]
  },
  {
   "cell_type": "markdown",
   "metadata": {},
   "source": [
    "## Задача B. Сложная сортировка\n",
    "\n",
    "Дан массив a1,...,an из n натуральных чисел. Требуется отсортировать числа в массиве в порядке возрастания суммы цифр, а при равной сумме цифр — по возрастанию самого числа."
   ]
  },
  {
   "cell_type": "code",
   "execution_count": 9,
   "metadata": {},
   "outputs": [],
   "source": [
    "from random import randrange\n",
    "\n",
    "a_int = [randrange(1000) for _ in range(1000)]\n",
    "a_str = list(map(str, a_int))"
   ]
  },
  {
   "cell_type": "code",
   "execution_count": 10,
   "metadata": {},
   "outputs": [
    {
     "data": {
      "text/plain": [
       "6"
      ]
     },
     "execution_count": 10,
     "metadata": {},
     "output_type": "execute_result"
    }
   ],
   "source": [
    "def sum_digits(n):\n",
    "    return sum(map(int, n))   # строки – итерируемые объекты\n",
    "\n",
    "sum_digits('123')"
   ]
  },
  {
   "cell_type": "code",
   "execution_count": 11,
   "metadata": {},
   "outputs": [
    {
     "name": "stdout",
     "output_type": "stream",
     "text": [
      "591 µs ± 16 µs per loop (mean ± std. dev. of 7 runs, 1000 loops each)\n"
     ]
    }
   ],
   "source": [
    "%%timeit\n",
    "\n",
    "list(map(sum_digits, a_str))"
   ]
  },
  {
   "cell_type": "code",
   "execution_count": 12,
   "metadata": {},
   "outputs": [
    {
     "data": {
      "text/plain": [
       "6"
      ]
     },
     "execution_count": 12,
     "metadata": {},
     "output_type": "execute_result"
    }
   ],
   "source": [
    "def sum_digits(n):\n",
    "    s = 0\n",
    "    while n:\n",
    "        s += n % 10\n",
    "        n //= 10\n",
    "    return s\n",
    "\n",
    "sum_digits(123)"
   ]
  },
  {
   "cell_type": "code",
   "execution_count": 13,
   "metadata": {},
   "outputs": [
    {
     "name": "stdout",
     "output_type": "stream",
     "text": [
      "258 µs ± 6.93 µs per loop (mean ± std. dev. of 7 runs, 1000 loops each)\n"
     ]
    }
   ],
   "source": [
    "%%timeit\n",
    "\n",
    "list(map(sum_digits, a_int))"
   ]
  },
  {
   "cell_type": "code",
   "execution_count": 14,
   "metadata": {},
   "outputs": [],
   "source": [
    "s_str = ['14', '23', '22']\n",
    "s_int = list(map(int, s_str))"
   ]
  },
  {
   "cell_type": "code",
   "execution_count": 15,
   "metadata": {},
   "outputs": [
    {
     "data": {
      "text/plain": [
       "[22, 14, 23]"
      ]
     },
     "execution_count": 15,
     "metadata": {},
     "output_type": "execute_result"
    }
   ],
   "source": [
    "sorted(s_int, key=lambda n: (sum_digits(n), int(n)))"
   ]
  },
  {
   "cell_type": "markdown",
   "metadata": {},
   "source": [
    "## Задача D.  Переупорядочивание списка\n",
    "\n",
    "Имеется функция `print_by_cols(v, cols)`, которая печатает список `v` в виде таблицы из `cols` колонок. Таблица “заполняется” построчно.\n",
    "\n",
    "```python\n",
    "def print_by_cols(v, cols):\n",
    "    for i in range(0, len(v), cols):\n",
    "        print(*v[i:i+cols], sep='\\t')\n",
    "```\n",
    "\n",
    "Напишите, функцию `reorder_list(v, cols)`, которая бы переупорядочила список `v` так, чтобы `print_by_cols` напечатала таблицу, в которой значения “заполнялись” бы поколоночно."
   ]
  },
  {
   "cell_type": "code",
   "execution_count": 16,
   "metadata": {},
   "outputs": [
    {
     "name": "stdout",
     "output_type": "stream",
     "text": [
      "0\t1\t2\t3\n",
      "4\t5\t6\t7\n",
      "8\t9\n"
     ]
    }
   ],
   "source": [
    "def print_by_cols(v, cols):\n",
    "    for i in range(0, len(v), cols):\n",
    "        print(*v[i:i+cols], sep='\\t')\n",
    "\n",
    "v = list(range(10))\n",
    "print_by_cols(v, 4)"
   ]
  },
  {
   "cell_type": "code",
   "execution_count": 17,
   "metadata": {},
   "outputs": [],
   "source": [
    "from itertools import chain, cycle, zip_longest\n",
    "\n",
    "def reorder_list(v, step):\n",
    "    # формируем пул для каждый из столбцов\n",
    "    v_pulls = [[] for _ in range(step)]\n",
    "    \n",
    "    # определяем длину каждого пула (квоту)\n",
    "    v_pulls_len = [len(v) // step] * step\n",
    "    for j in range(len(v) % step):\n",
    "        v_pulls_len[j] += 1\n",
    "\n",
    "    # создаем итератор пар (пулл, длина пула)\n",
    "    v_pulls_it = cycle(zip(v_pulls, v_pulls_len))\n",
    "    # получаем первую пару\n",
    "    v_sub, v_len = next(v_pulls_it)\n",
    "\n",
    "    # итерируемся по всем элементам списка\n",
    "    for p in v:\n",
    "        # ищем тот пул, в котором еще не закончилась квота\n",
    "        while len(v_sub) >= v_len:\n",
    "            v_sub, v_len = next(v_pulls_it)\n",
    "        # добавляем элемент\n",
    "        v_sub.append(p)\n",
    "        \n",
    "    # print(v_pulls)\n",
    "    \n",
    "    # Вспоминаем:\n",
    "    # 1. как выглядит v_pulls;\n",
    "    # 2. чем zip отличается от zip_longest;\n",
    "    # 3. как работает распаковка для zip.\n",
    "    v_pulls = chain.from_iterable(zip_longest(*v_pulls))\n",
    "    v_pulls = list(filter(lambda e: e is not None, v_pulls))\n",
    "\n",
    "    return v_pulls"
   ]
  },
  {
   "cell_type": "code",
   "execution_count": 18,
   "metadata": {},
   "outputs": [
    {
     "name": "stdout",
     "output_type": "stream",
     "text": [
      "0\t3\t6\t8\n",
      "1\t4\t7\t9\n",
      "2\t5\n"
     ]
    }
   ],
   "source": [
    "v_ordered = reorder_list(v, 4)\n",
    "\n",
    "print_by_cols(v_ordered, 4)"
   ]
  },
  {
   "cell_type": "code",
   "execution_count": 19,
   "metadata": {},
   "outputs": [
    {
     "data": {
      "text/plain": [
       "[0, 3, 6, 8, 1, 4, 7, 9, 2, 5]"
      ]
     },
     "execution_count": 19,
     "metadata": {},
     "output_type": "execute_result"
    }
   ],
   "source": [
    "v_ordered"
   ]
  },
  {
   "cell_type": "code",
   "execution_count": null,
   "metadata": {},
   "outputs": [],
   "source": []
  }
 ],
 "metadata": {
  "kernelspec": {
   "display_name": "Python 3",
   "language": "python",
   "name": "python3"
  },
  "language_info": {
   "codemirror_mode": {
    "name": "ipython",
    "version": 3
   },
   "file_extension": ".py",
   "mimetype": "text/x-python",
   "name": "python",
   "nbconvert_exporter": "python",
   "pygments_lexer": "ipython3",
   "version": "3.7.3"
  }
 },
 "nbformat": 4,
 "nbformat_minor": 2
}
