{
 "cells": [
  {
   "cell_type": "markdown",
   "metadata": {},
   "source": [
    "Анализ данных. ДЗ №1"
   ]
  },
  {
   "cell_type": "code",
   "execution_count": 6,
   "metadata": {},
   "outputs": [
    {
     "name": "stdout",
     "output_type": "stream",
     "text": [
      "10\n",
      "7 10 3 2 7 4 8 5 9 10\n",
      "7 10 3 2 4 8 5 9\n",
      "2\n"
     ]
    }
   ],
   "source": [
    "#1\n",
    "n = int(input())\n",
    "a = [int(i) for i in input().split()]\n",
    "n1 = 0\n",
    "a1 = []\n",
    "for i in a:\n",
    "    if i not in a1:\n",
    "        a1.append(i)\n",
    "    else:\n",
    "        n1 += 1\n",
    "print(*a1)\n",
    "print(n1)"
   ]
  },
  {
   "cell_type": "code",
   "execution_count": 12,
   "metadata": {},
   "outputs": [
    {
     "name": "stdout",
     "output_type": "stream",
     "text": [
      "3\n",
      "23 14 22\n",
      "22 14 23\n"
     ]
    }
   ],
   "source": [
    "#2\n",
    "def sum_num(x):\n",
    "    num = x\n",
    "    sum = 0\n",
    "    while x != 0:\n",
    "        sum += x % 10\n",
    "        x //= 10\n",
    "    return (sum, num)\n",
    "    \n",
    "n = int(input())\n",
    "a = [int(i) for i in input().split()]\n",
    "a.sort(key = sum_num)\n",
    "print(*a)"
   ]
  },
  {
   "cell_type": "code",
   "execution_count": 22,
   "metadata": {},
   "outputs": [
    {
     "name": "stdout",
     "output_type": "stream",
     "text": [
      "9 5\n",
      "1 2 1 2 1 2 3 4 5 "
     ]
    }
   ],
   "source": [
    "#3\n",
    "n, k = (int(i) for i in input().split())\n",
    "while n > k:\n",
    "    print(1, end=' ')\n",
    "    print(2, end=' ')\n",
    "    n -= 2\n",
    "if n == k:\n",
    "    for i in range(1, k + 1):\n",
    "        print(i, end=' ')\n",
    "else:\n",
    "    print(1, end=' ')\n",
    "    for i in range(3, k + 1):\n",
    "        print(i, end=' ')"
   ]
  },
  {
   "cell_type": "code",
   "execution_count": 61,
   "metadata": {},
   "outputs": [
    {
     "name": "stdout",
     "output_type": "stream",
     "text": [
      "1\t2\t3\t4\t5\n",
      "6\t7\t8\t9\t10\n",
      "11\t12\t13\t14\t15\n",
      "16\t17\t18\t19\t20\n",
      "21\t22\n",
      "\n",
      "1\t6\t11\t15\t19\n",
      "2\t7\t12\t16\t20\n",
      "3\t8\t13\t17\t21\n",
      "4\t9\t14\t18\t22\n",
      "5\t10\n"
     ]
    }
   ],
   "source": [
    "#4\n",
    "def print_by_cols(v, cols):\n",
    "    for i in range(0, len(v), cols):\n",
    "        print(*v[i:i+cols], sep='\\t')\n",
    "def reorder_list(v, cols):\n",
    "    n = len(v)\n",
    "    mod = n % cols\n",
    "    rows = n // cols\n",
    "    v_new = [0 for i in range(n)]\n",
    "    for i in range(mod):\n",
    "        for j in range(rows + 1):\n",
    "            v_new[j * cols + i] = v[i * (rows + 1) + j]\n",
    "    for i in range(0, cols - mod):\n",
    "        for j in range(rows):\n",
    "            if mod * (rows + 1) + i * rows + j < n:\n",
    "                if  j * cols + i + mod < n :\n",
    "                    v_new[j * cols + i + mod] = v[mod * (rows + 1) + i * rows + j]\n",
    "    return v_new\n",
    "v = list(range(1, 23))\n",
    "cols = 5\n",
    "\n",
    "v_new = reorder_list(v, cols)\n",
    "\n",
    "print_by_cols(v, cols)\n",
    "print()\n",
    "print_by_cols(v_new, cols)"
   ]
  },
  {
   "cell_type": "code",
   "execution_count": 73,
   "metadata": {},
   "outputs": [
    {
     "name": "stdout",
     "output_type": "stream",
     "text": [
      "? 10000\n",
      "? 20000\n",
      "? 30000\n",
      "? 40000\n",
      "? 50000\n",
      "? 60000\n",
      "? 70000\n",
      "? 80000\n",
      "? 90000\n",
      "? 100000\n",
      "+\n",
      "1\n",
      "1\n",
      "1\n",
      "1\n",
      "1\n",
      "1\n",
      "1\n",
      "1\n",
      "1\n",
      "1\n",
      "? 1000\n",
      "? 2000\n",
      "? 3000\n",
      "? 4000\n",
      "? 5000\n",
      "? 6000\n",
      "? 7000\n",
      "? 8000\n",
      "? 9000\n",
      "? 10000\n",
      "+\n",
      "1\n",
      "1\n",
      "1\n",
      "1\n",
      "1\n",
      "1\n",
      "1\n",
      "1\n",
      "1\n",
      "1\n",
      "? 100\n",
      "? 200\n",
      "? 300\n",
      "? 400\n",
      "? 500\n",
      "? 600\n",
      "? 700\n",
      "? 800\n",
      "? 900\n",
      "? 1000\n",
      "+\n",
      "1\n",
      "1\n",
      "1\n",
      "1\n",
      "1\n",
      "1\n",
      "1\n",
      "1\n",
      "1\n",
      "1\n",
      "? 10\n",
      "? 20\n",
      "? 30\n",
      "? 40\n",
      "? 50\n",
      "? 60\n",
      "? 70\n",
      "? 80\n",
      "? 90\n",
      "? 100\n",
      "+\n",
      "1\n",
      "1\n",
      "1\n",
      "1\n",
      "1\n",
      "1\n",
      "1\n",
      "1\n",
      "1\n",
      "1\n",
      "? 1\n",
      "? 2\n",
      "? 3\n",
      "? 4\n",
      "? 5\n",
      "? 6\n",
      "? 7\n",
      "? 8\n",
      "? 9\n",
      "? 10\n",
      "+\n",
      "0\n",
      "0\n",
      "0\n",
      "0\n",
      "1\n",
      "1\n",
      "1\n",
      "1\n",
      "1\n",
      "1\n",
      "! 4\n"
     ]
    }
   ],
   "source": [
    "# 5\n",
    "def main():\n",
    "    base = 0\n",
    "    for i in range(4, -1, -1):\n",
    "        res = []\n",
    "        for j in range(1, 11):\n",
    "            print('? {}'.format(base + j * 10**i))\n",
    "        print('+')\n",
    "        for j in range(10):\n",
    "            res.append(int(input()))\n",
    "        if res[9] == 0:\n",
    "            print('! {}'.format(base + 10**(i + 1)))\n",
    "            return 0\n",
    "        j = 0\n",
    "        while (res[j] == 0):\n",
    "            j += 1\n",
    "        base += j * 10**i\n",
    "    return base\n",
    "res = main()\n",
    "if res != 0:\n",
    "    print('! {}'.format(res))"
   ]
  }
 ],
 "metadata": {
  "kernelspec": {
   "display_name": "Python 3",
   "language": "python",
   "name": "python3"
  },
  "language_info": {
   "codemirror_mode": {
    "name": "ipython",
    "version": 3
   },
   "file_extension": ".py",
   "mimetype": "text/x-python",
   "name": "python",
   "nbconvert_exporter": "python",
   "pygments_lexer": "ipython3",
   "version": "3.7.3"
  }
 },
 "nbformat": 4,
 "nbformat_minor": 2
}
