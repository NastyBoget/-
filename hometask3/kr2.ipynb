{
 "cells": [
  {
   "cell_type": "code",
   "execution_count": 1,
   "metadata": {},
   "outputs": [],
   "source": [
    "import pandas as pd\n",
    "import numpy as np"
   ]
  },
  {
   "cell_type": "code",
   "execution_count": 76,
   "metadata": {},
   "outputs": [],
   "source": [
    "df = pd.read_csv('/home/nastyboget/Загрузки/Введение в анализ данных/hometask3/restaurants.csv', sep = ',')"
   ]
  },
  {
   "cell_type": "code",
   "execution_count": 5,
   "metadata": {},
   "outputs": [
    {
     "data": {
      "text/html": [
       "<div>\n",
       "<style scoped>\n",
       "    .dataframe tbody tr th:only-of-type {\n",
       "        vertical-align: middle;\n",
       "    }\n",
       "\n",
       "    .dataframe tbody tr th {\n",
       "        vertical-align: top;\n",
       "    }\n",
       "\n",
       "    .dataframe thead th {\n",
       "        text-align: right;\n",
       "    }\n",
       "</style>\n",
       "<table border=\"1\" class=\"dataframe\">\n",
       "  <thead>\n",
       "    <tr style=\"text-align: right;\">\n",
       "      <th></th>\n",
       "      <th>vendor_id</th>\n",
       "      <th>chain_id</th>\n",
       "      <th>city_name</th>\n",
       "      <th>specialisation</th>\n",
       "      <th>successful_orders</th>\n",
       "      <th>fail_orders</th>\n",
       "      <th>reorders</th>\n",
       "    </tr>\n",
       "  </thead>\n",
       "  <tbody>\n",
       "    <tr>\n",
       "      <th>0</th>\n",
       "      <td>28957</td>\n",
       "      <td>20633</td>\n",
       "      <td>Архангельск</td>\n",
       "      <td>Супы</td>\n",
       "      <td>0.0</td>\n",
       "      <td>2.0</td>\n",
       "      <td>0.0</td>\n",
       "    </tr>\n",
       "    <tr>\n",
       "      <th>1</th>\n",
       "      <td>37381</td>\n",
       "      <td>27399</td>\n",
       "      <td>Архангельск</td>\n",
       "      <td>Пироги</td>\n",
       "      <td>0.0</td>\n",
       "      <td>0.0</td>\n",
       "      <td>0.0</td>\n",
       "    </tr>\n",
       "    <tr>\n",
       "      <th>2</th>\n",
       "      <td>28703</td>\n",
       "      <td>20431</td>\n",
       "      <td>Архангельск</td>\n",
       "      <td>Суши</td>\n",
       "      <td>111.0</td>\n",
       "      <td>3.0</td>\n",
       "      <td>0.0</td>\n",
       "    </tr>\n",
       "    <tr>\n",
       "      <th>3</th>\n",
       "      <td>37382</td>\n",
       "      <td>27399</td>\n",
       "      <td>Архангельск</td>\n",
       "      <td>Пироги</td>\n",
       "      <td>1.0</td>\n",
       "      <td>0.0</td>\n",
       "      <td>0.0</td>\n",
       "    </tr>\n",
       "    <tr>\n",
       "      <th>4</th>\n",
       "      <td>36877</td>\n",
       "      <td>27151</td>\n",
       "      <td>Архангельск</td>\n",
       "      <td>Бургеры</td>\n",
       "      <td>22.0</td>\n",
       "      <td>2.0</td>\n",
       "      <td>0.0</td>\n",
       "    </tr>\n",
       "  </tbody>\n",
       "</table>\n",
       "</div>"
      ],
      "text/plain": [
       "   vendor_id  chain_id    city_name specialisation  successful_orders  \\\n",
       "0      28957     20633  Архангельск           Супы                0.0   \n",
       "1      37381     27399  Архангельск         Пироги                0.0   \n",
       "2      28703     20431  Архангельск           Суши              111.0   \n",
       "3      37382     27399  Архангельск         Пироги                1.0   \n",
       "4      36877     27151  Архангельск        Бургеры               22.0   \n",
       "\n",
       "   fail_orders  reorders  \n",
       "0          2.0       0.0  \n",
       "1          0.0       0.0  \n",
       "2          3.0       0.0  \n",
       "3          0.0       0.0  \n",
       "4          2.0       0.0  "
      ]
     },
     "execution_count": 5,
     "metadata": {},
     "output_type": "execute_result"
    }
   ],
   "source": [
    "df.head()"
   ]
  },
  {
   "cell_type": "code",
   "execution_count": 6,
   "metadata": {},
   "outputs": [
    {
     "name": "stdout",
     "output_type": "stream",
     "text": [
      "<class 'pandas.core.frame.DataFrame'>\n",
      "RangeIndex: 784 entries, 0 to 783\n",
      "Data columns (total 7 columns):\n",
      "vendor_id            784 non-null int64\n",
      "chain_id             784 non-null int64\n",
      "city_name            784 non-null object\n",
      "specialisation       784 non-null object\n",
      "successful_orders    784 non-null float64\n",
      "fail_orders          784 non-null float64\n",
      "reorders             784 non-null float64\n",
      "dtypes: float64(3), int64(2), object(2)\n",
      "memory usage: 43.0+ KB\n",
      "None\n"
     ]
    }
   ],
   "source": [
    "print(df.info())"
   ]
  },
  {
   "cell_type": "code",
   "execution_count": 7,
   "metadata": {},
   "outputs": [
    {
     "data": {
      "text/plain": [
       "(784, 7)"
      ]
     },
     "execution_count": 7,
     "metadata": {},
     "output_type": "execute_result"
    }
   ],
   "source": [
    "df.shape"
   ]
  },
  {
   "cell_type": "code",
   "execution_count": 8,
   "metadata": {},
   "outputs": [
    {
     "data": {
      "text/plain": [
       "[('vendor_id', 784),\n",
       " ('chain_id', 693),\n",
       " ('city_name', 63),\n",
       " ('specialisation', 27),\n",
       " ('successful_orders', 284),\n",
       " ('fail_orders', 29),\n",
       " ('reorders', 30)]"
      ]
     },
     "execution_count": 8,
     "metadata": {},
     "output_type": "execute_result"
    }
   ],
   "source": [
    "[(col, df[col].nunique()) for col in df.columns]"
   ]
  },
  {
   "cell_type": "code",
   "execution_count": 17,
   "metadata": {},
   "outputs": [
    {
     "data": {
      "text/plain": [
       "(30, 7)"
      ]
     },
     "execution_count": 17,
     "metadata": {},
     "output_type": "execute_result"
    }
   ],
   "source": [
    "df[(df.specialisation=='Рыба')].shape"
   ]
  },
  {
   "cell_type": "code",
   "execution_count": 21,
   "metadata": {},
   "outputs": [
    {
     "data": {
      "text/plain": [
       "115.34438775510205"
      ]
     },
     "execution_count": 21,
     "metadata": {},
     "output_type": "execute_result"
    }
   ],
   "source": [
    "df['successful_orders'].mean()"
   ]
  },
  {
   "cell_type": "code",
   "execution_count": 42,
   "metadata": {},
   "outputs": [
    {
     "data": {
      "text/plain": [
       "city_name\n",
       "Ханты-Мансийск    2\n",
       "Name: reorders, dtype: int64"
      ]
     },
     "execution_count": 42,
     "metadata": {},
     "output_type": "execute_result"
    }
   ],
   "source": [
    "minr = df.groupby(by = 'city_name')['reorders'].count()\n",
    "minr[minr == 2]"
   ]
  },
  {
   "cell_type": "code",
   "execution_count": 46,
   "metadata": {},
   "outputs": [
    {
     "data": {
      "text/html": [
       "<div>\n",
       "<style scoped>\n",
       "    .dataframe tbody tr th:only-of-type {\n",
       "        vertical-align: middle;\n",
       "    }\n",
       "\n",
       "    .dataframe tbody tr th {\n",
       "        vertical-align: top;\n",
       "    }\n",
       "\n",
       "    .dataframe thead th {\n",
       "        text-align: right;\n",
       "    }\n",
       "</style>\n",
       "<table border=\"1\" class=\"dataframe\">\n",
       "  <thead>\n",
       "    <tr style=\"text-align: right;\">\n",
       "      <th></th>\n",
       "      <th>vendor_id</th>\n",
       "      <th>chain_id</th>\n",
       "      <th>city_name</th>\n",
       "      <th>specialisation</th>\n",
       "      <th>successful_orders</th>\n",
       "      <th>fail_orders</th>\n",
       "      <th>reorders</th>\n",
       "    </tr>\n",
       "  </thead>\n",
       "  <tbody>\n",
       "    <tr>\n",
       "      <th>95</th>\n",
       "      <td>24121</td>\n",
       "      <td>16012</td>\n",
       "      <td>Волгоград</td>\n",
       "      <td>Пицца</td>\n",
       "      <td>445.0</td>\n",
       "      <td>24.0</td>\n",
       "      <td>25.0</td>\n",
       "    </tr>\n",
       "    <tr>\n",
       "      <th>145</th>\n",
       "      <td>33976</td>\n",
       "      <td>14915</td>\n",
       "      <td>Екатеринбург</td>\n",
       "      <td>Суши</td>\n",
       "      <td>327.0</td>\n",
       "      <td>46.0</td>\n",
       "      <td>65.0</td>\n",
       "    </tr>\n",
       "    <tr>\n",
       "      <th>372</th>\n",
       "      <td>22211</td>\n",
       "      <td>15120</td>\n",
       "      <td>Нижний Новгород</td>\n",
       "      <td>Суши</td>\n",
       "      <td>79.0</td>\n",
       "      <td>29.0</td>\n",
       "      <td>20.0</td>\n",
       "    </tr>\n",
       "    <tr>\n",
       "      <th>420</th>\n",
       "      <td>24126</td>\n",
       "      <td>16404</td>\n",
       "      <td>Орел</td>\n",
       "      <td>Пицца</td>\n",
       "      <td>482.0</td>\n",
       "      <td>33.0</td>\n",
       "      <td>27.0</td>\n",
       "    </tr>\n",
       "    <tr>\n",
       "      <th>656</th>\n",
       "      <td>25369</td>\n",
       "      <td>17762</td>\n",
       "      <td>Тула</td>\n",
       "      <td>Пицца</td>\n",
       "      <td>205.0</td>\n",
       "      <td>38.0</td>\n",
       "      <td>18.0</td>\n",
       "    </tr>\n",
       "  </tbody>\n",
       "</table>\n",
       "</div>"
      ],
      "text/plain": [
       "     vendor_id  chain_id        city_name specialisation  successful_orders  \\\n",
       "95       24121     16012        Волгоград          Пицца              445.0   \n",
       "145      33976     14915     Екатеринбург           Суши              327.0   \n",
       "372      22211     15120  Нижний Новгород           Суши               79.0   \n",
       "420      24126     16404             Орел          Пицца              482.0   \n",
       "656      25369     17762             Тула          Пицца              205.0   \n",
       "\n",
       "     fail_orders  reorders  \n",
       "95          24.0      25.0  \n",
       "145         46.0      65.0  \n",
       "372         29.0      20.0  \n",
       "420         33.0      27.0  \n",
       "656         38.0      18.0  "
      ]
     },
     "execution_count": 46,
     "metadata": {},
     "output_type": "execute_result"
    }
   ],
   "source": [
    "df[(df.fail_orders > 20.0) & (df.successful_orders < 500)]"
   ]
  },
  {
   "cell_type": "code",
   "execution_count": 55,
   "metadata": {},
   "outputs": [
    {
     "data": {
      "text/plain": [
       "12.8"
      ]
     },
     "execution_count": 55,
     "metadata": {},
     "output_type": "execute_result"
    }
   ],
   "source": [
    "df[(df.specialisation == 'Выпечка')]['successful_orders'].mean()"
   ]
  },
  {
   "cell_type": "code",
   "execution_count": 66,
   "metadata": {},
   "outputs": [
    {
     "data": {
      "text/html": [
       "<div>\n",
       "<style scoped>\n",
       "    .dataframe tbody tr th:only-of-type {\n",
       "        vertical-align: middle;\n",
       "    }\n",
       "\n",
       "    .dataframe tbody tr th {\n",
       "        vertical-align: top;\n",
       "    }\n",
       "\n",
       "    .dataframe thead th {\n",
       "        text-align: right;\n",
       "    }\n",
       "</style>\n",
       "<table border=\"1\" class=\"dataframe\">\n",
       "  <thead>\n",
       "    <tr style=\"text-align: right;\">\n",
       "      <th></th>\n",
       "      <th>successful_orders</th>\n",
       "      <th>fail_orders</th>\n",
       "      <th>reorders</th>\n",
       "      <th>unsuc</th>\n",
       "    </tr>\n",
       "    <tr>\n",
       "      <th>specialisation</th>\n",
       "      <th></th>\n",
       "      <th></th>\n",
       "      <th></th>\n",
       "      <th></th>\n",
       "    </tr>\n",
       "  </thead>\n",
       "  <tbody>\n",
       "    <tr>\n",
       "      <th>Бургеры</th>\n",
       "      <td>4863.0</td>\n",
       "      <td>148.0</td>\n",
       "      <td>131.0</td>\n",
       "      <td>0.028783</td>\n",
       "    </tr>\n",
       "    <tr>\n",
       "      <th>Вегетарианское меню</th>\n",
       "      <td>12.0</td>\n",
       "      <td>7.0</td>\n",
       "      <td>4.0</td>\n",
       "      <td>0.304348</td>\n",
       "    </tr>\n",
       "    <tr>\n",
       "      <th>Выпечка</th>\n",
       "      <td>64.0</td>\n",
       "      <td>4.0</td>\n",
       "      <td>1.0</td>\n",
       "      <td>0.057971</td>\n",
       "    </tr>\n",
       "    <tr>\n",
       "      <th>Гирос</th>\n",
       "      <td>682.0</td>\n",
       "      <td>9.0</td>\n",
       "      <td>3.0</td>\n",
       "      <td>0.012968</td>\n",
       "    </tr>\n",
       "    <tr>\n",
       "      <th>Грузинская</th>\n",
       "      <td>191.0</td>\n",
       "      <td>5.0</td>\n",
       "      <td>1.0</td>\n",
       "      <td>0.025381</td>\n",
       "    </tr>\n",
       "    <tr>\n",
       "      <th>Десерты</th>\n",
       "      <td>41.0</td>\n",
       "      <td>6.0</td>\n",
       "      <td>3.0</td>\n",
       "      <td>0.120000</td>\n",
       "    </tr>\n",
       "    <tr>\n",
       "      <th>Индийская</th>\n",
       "      <td>76.0</td>\n",
       "      <td>8.0</td>\n",
       "      <td>2.0</td>\n",
       "      <td>0.093023</td>\n",
       "    </tr>\n",
       "    <tr>\n",
       "      <th>Итальянская</th>\n",
       "      <td>134.0</td>\n",
       "      <td>1.0</td>\n",
       "      <td>0.0</td>\n",
       "      <td>0.007407</td>\n",
       "    </tr>\n",
       "    <tr>\n",
       "      <th>Китайская</th>\n",
       "      <td>891.0</td>\n",
       "      <td>18.0</td>\n",
       "      <td>11.0</td>\n",
       "      <td>0.019565</td>\n",
       "    </tr>\n",
       "    <tr>\n",
       "      <th>Корейская</th>\n",
       "      <td>9.0</td>\n",
       "      <td>1.0</td>\n",
       "      <td>0.0</td>\n",
       "      <td>0.100000</td>\n",
       "    </tr>\n",
       "    <tr>\n",
       "      <th>Мексиканская</th>\n",
       "      <td>33.0</td>\n",
       "      <td>1.0</td>\n",
       "      <td>0.0</td>\n",
       "      <td>0.029412</td>\n",
       "    </tr>\n",
       "    <tr>\n",
       "      <th>Мясо</th>\n",
       "      <td>692.0</td>\n",
       "      <td>16.0</td>\n",
       "      <td>14.0</td>\n",
       "      <td>0.022161</td>\n",
       "    </tr>\n",
       "    <tr>\n",
       "      <th>Паназиатская</th>\n",
       "      <td>39.0</td>\n",
       "      <td>2.0</td>\n",
       "      <td>2.0</td>\n",
       "      <td>0.046512</td>\n",
       "    </tr>\n",
       "    <tr>\n",
       "      <th>Паста и ризотто</th>\n",
       "      <td>159.0</td>\n",
       "      <td>4.0</td>\n",
       "      <td>2.0</td>\n",
       "      <td>0.024242</td>\n",
       "    </tr>\n",
       "    <tr>\n",
       "      <th>Пироги</th>\n",
       "      <td>478.0</td>\n",
       "      <td>13.0</td>\n",
       "      <td>8.0</td>\n",
       "      <td>0.026052</td>\n",
       "    </tr>\n",
       "    <tr>\n",
       "      <th>Пицца</th>\n",
       "      <td>25856.0</td>\n",
       "      <td>588.0</td>\n",
       "      <td>489.0</td>\n",
       "      <td>0.021832</td>\n",
       "    </tr>\n",
       "    <tr>\n",
       "      <th>Русская</th>\n",
       "      <td>1217.0</td>\n",
       "      <td>10.0</td>\n",
       "      <td>13.0</td>\n",
       "      <td>0.008065</td>\n",
       "    </tr>\n",
       "    <tr>\n",
       "      <th>Рыба</th>\n",
       "      <td>2873.0</td>\n",
       "      <td>29.0</td>\n",
       "      <td>32.0</td>\n",
       "      <td>0.009884</td>\n",
       "    </tr>\n",
       "    <tr>\n",
       "      <th>Супы</th>\n",
       "      <td>1126.0</td>\n",
       "      <td>23.0</td>\n",
       "      <td>11.0</td>\n",
       "      <td>0.019828</td>\n",
       "    </tr>\n",
       "    <tr>\n",
       "      <th>Суши</th>\n",
       "      <td>44310.0</td>\n",
       "      <td>1019.0</td>\n",
       "      <td>927.0</td>\n",
       "      <td>0.022030</td>\n",
       "    </tr>\n",
       "    <tr>\n",
       "      <th>Сэндвичи</th>\n",
       "      <td>712.0</td>\n",
       "      <td>15.0</td>\n",
       "      <td>11.0</td>\n",
       "      <td>0.020325</td>\n",
       "    </tr>\n",
       "    <tr>\n",
       "      <th>Узбекская</th>\n",
       "      <td>31.0</td>\n",
       "      <td>1.0</td>\n",
       "      <td>3.0</td>\n",
       "      <td>0.028571</td>\n",
       "    </tr>\n",
       "    <tr>\n",
       "      <th>Фастфуд</th>\n",
       "      <td>89.0</td>\n",
       "      <td>0.0</td>\n",
       "      <td>0.0</td>\n",
       "      <td>0.000000</td>\n",
       "    </tr>\n",
       "    <tr>\n",
       "      <th>Хот-доги</th>\n",
       "      <td>9.0</td>\n",
       "      <td>3.0</td>\n",
       "      <td>4.0</td>\n",
       "      <td>0.187500</td>\n",
       "    </tr>\n",
       "    <tr>\n",
       "      <th>Шаурма</th>\n",
       "      <td>184.0</td>\n",
       "      <td>3.0</td>\n",
       "      <td>7.0</td>\n",
       "      <td>0.015464</td>\n",
       "    </tr>\n",
       "    <tr>\n",
       "      <th>Шашлыки</th>\n",
       "      <td>2057.0</td>\n",
       "      <td>44.0</td>\n",
       "      <td>57.0</td>\n",
       "      <td>0.020389</td>\n",
       "    </tr>\n",
       "    <tr>\n",
       "      <th>Японская</th>\n",
       "      <td>3602.0</td>\n",
       "      <td>42.0</td>\n",
       "      <td>33.0</td>\n",
       "      <td>0.011422</td>\n",
       "    </tr>\n",
       "  </tbody>\n",
       "</table>\n",
       "</div>"
      ],
      "text/plain": [
       "                     successful_orders  fail_orders  reorders     unsuc\n",
       "specialisation                                                         \n",
       "Бургеры                         4863.0        148.0     131.0  0.028783\n",
       "Вегетарианское меню               12.0          7.0       4.0  0.304348\n",
       "Выпечка                           64.0          4.0       1.0  0.057971\n",
       "Гирос                            682.0          9.0       3.0  0.012968\n",
       "Грузинская                       191.0          5.0       1.0  0.025381\n",
       "Десерты                           41.0          6.0       3.0  0.120000\n",
       "Индийская                         76.0          8.0       2.0  0.093023\n",
       "Итальянская                      134.0          1.0       0.0  0.007407\n",
       "Китайская                        891.0         18.0      11.0  0.019565\n",
       "Корейская                          9.0          1.0       0.0  0.100000\n",
       "Мексиканская                      33.0          1.0       0.0  0.029412\n",
       "Мясо                             692.0         16.0      14.0  0.022161\n",
       "Паназиатская                      39.0          2.0       2.0  0.046512\n",
       "Паста и ризотто                  159.0          4.0       2.0  0.024242\n",
       "Пироги                           478.0         13.0       8.0  0.026052\n",
       "Пицца                          25856.0        588.0     489.0  0.021832\n",
       "Русская                         1217.0         10.0      13.0  0.008065\n",
       "Рыба                            2873.0         29.0      32.0  0.009884\n",
       "Супы                            1126.0         23.0      11.0  0.019828\n",
       "Суши                           44310.0       1019.0     927.0  0.022030\n",
       "Сэндвичи                         712.0         15.0      11.0  0.020325\n",
       "Узбекская                         31.0          1.0       3.0  0.028571\n",
       "Фастфуд                           89.0          0.0       0.0  0.000000\n",
       "Хот-доги                           9.0          3.0       4.0  0.187500\n",
       "Шаурма                           184.0          3.0       7.0  0.015464\n",
       "Шашлыки                         2057.0         44.0      57.0  0.020389\n",
       "Японская                        3602.0         42.0      33.0  0.011422"
      ]
     },
     "execution_count": 66,
     "metadata": {},
     "output_type": "execute_result"
    }
   ],
   "source": [
    "new_df = df.groupby(by = 'specialisation')['successful_orders', 'fail_orders', 'reorders'].sum()\n",
    "new_df['unsuc'] = new_df['fail_orders'] / (new_df['successful_orders'] + new_df['fail_orders'] + new_df['reorders'])\n",
    "new_df['unsuc']"
   ]
  },
  {
   "cell_type": "code",
   "execution_count": 70,
   "metadata": {},
   "outputs": [
    {
     "data": {
      "text/plain": [
       "506.0"
      ]
     },
     "execution_count": 70,
     "metadata": {},
     "output_type": "execute_result"
    }
   ],
   "source": [
    "df[df.specialisation == 'Бургеры']['successful_orders'].max()"
   ]
  },
  {
   "cell_type": "code",
   "execution_count": 74,
   "metadata": {},
   "outputs": [
    {
     "data": {
      "text/plain": [
       "328.0"
      ]
     },
     "execution_count": 74,
     "metadata": {},
     "output_type": "execute_result"
    }
   ],
   "source": [
    "df[(df.specialisation == 'Суши') & (df.city_name == 'Белгород')]['successful_orders'].mean()"
   ]
  },
  {
   "cell_type": "code",
   "execution_count": 77,
   "metadata": {},
   "outputs": [],
   "source": [
    "df2 = pd.read_csv('/home/nastyboget/Загрузки/Введение в анализ данных/hometask3/restaurant_scores.csv', sep = ',')"
   ]
  },
  {
   "cell_type": "code",
   "execution_count": 87,
   "metadata": {},
   "outputs": [
    {
     "data": {
      "text/plain": [
       "0.6126930164173244"
      ]
     },
     "execution_count": 87,
     "metadata": {},
     "output_type": "execute_result"
    }
   ],
   "source": [
    "new_df = pd.merge(df, df2, right_on='id', left_on='vendor_id')\n",
    "new_df[new_df.chain_id == 27399]['model_score'].mean()"
   ]
  },
  {
   "cell_type": "code",
   "execution_count": 96,
   "metadata": {},
   "outputs": [
    {
     "data": {
      "text/plain": [
       "array([[<matplotlib.axes._subplots.AxesSubplot object at 0x7f6972a71588>]],\n",
       "      dtype=object)"
      ]
     },
     "execution_count": 96,
     "metadata": {},
     "output_type": "execute_result"
    },
    {
     "data": {
      "image/png": "[encoded data removed]",
      "text/plain": [
       "<Figure size 432x288 with 1 Axes>"
      ]
     },
     "metadata": {
      "needs_background": "light"
     },
     "output_type": "display_data"
    }
   ],
   "source": [
    "x = ['Java', 'Python', 'PHP', 'JavaScript', 'C#', 'C++']\n",
    "popularity = [22.2, 17.6, 8.8, 8, 7.7, 6.7]\n",
    "df = pd.DataFrame({\n",
    "    'Язык': x,\n",
    "    'Популярность': popularity\n",
    "})\n",
    "df.hist()"
   ]
  },
  {
   "cell_type": "code",
   "execution_count": null,
   "metadata": {},
   "outputs": [],
   "source": []
  }
 ],
 "metadata": {
  "kernelspec": {
   "display_name": "Python 3",
   "language": "python",
   "name": "python3"
  },
  "language_info": {
   "codemirror_mode": {
    "name": "ipython",
    "version": 3
   },
   "file_extension": ".py",
   "mimetype": "text/x-python",
   "name": "python",
   "nbconvert_exporter": "python",
   "pygments_lexer": "ipython3",
   "version": "3.7.3"
  }
 },
 "nbformat": 4,
 "nbformat_minor": 2
}
