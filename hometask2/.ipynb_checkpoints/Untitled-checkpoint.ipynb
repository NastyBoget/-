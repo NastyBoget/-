{
 "cells": [
  {
   "cell_type": "code",
   "execution_count": 75,
   "metadata": {},
   "outputs": [
    {
     "data": {
      "text/plain": [
       "14"
      ]
     },
     "execution_count": 75,
     "metadata": {},
     "output_type": "execute_result"
    }
   ],
   "source": [
    "import numpy as np\n",
    "x = np.arange(5)\n",
    "X = np.arange(25)[np.newaxis, :].reshape(5, 5)\n",
    "distances = [(X[i], np.linalg.norm(x - X[i])) \n",
    "                      for i in range(X.shape[0])] #.sort(key=lambda x: x[1])\n",
    "distances = sorted([(X[i], np.linalg.norm(x - X[i])) \n",
    "                      for i in range(X.shape[0])], key=lambda x: x[1])\n",
    "np.array([distances[i][0] for i in range(3)])\n",
    "np.concatenate((X, x.reshape(-1, 1)), axis=1)\n",
    "results = list(np.unique(X[:,-1]))\n",
    "r = np.array([24, 24, 4, 4, 4, 14, 14, 14, 14, 14])\n",
    "from collections import Counter\n",
    "a = Counter(r)\n",
    "a.most_common(1)[0][0]"
   ]
  },
  {
   "cell_type": "code",
   "execution_count": 16,
   "metadata": {},
   "outputs": [
    {
     "data": {
      "text/plain": [
       "array([0, 1, 2, 3, 4])"
      ]
     },
     "execution_count": 16,
     "metadata": {},
     "output_type": "execute_result"
    }
   ],
   "source": [
    "X = np.arange(25)[np.newaxis, :].reshape(5, 5)\n",
    "X[0]"
   ]
  },
  {
   "cell_type": "code",
   "execution_count": null,
   "metadata": {},
   "outputs": [],
   "source": []
  }
 ],
 "metadata": {
  "kernelspec": {
   "display_name": "Python 3",
   "language": "python",
   "name": "python3"
  },
  "language_info": {
   "codemirror_mode": {
    "name": "ipython",
    "version": 3
   },
   "file_extension": ".py",
   "mimetype": "text/x-python",
   "name": "python",
   "nbconvert_exporter": "python",
   "pygments_lexer": "ipython3",
   "version": "3.7.3"
  }
 },
 "nbformat": 4,
 "nbformat_minor": 2
}
